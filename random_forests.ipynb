{
 "cells": [
  {
   "cell_type": "markdown",
   "id": "cd9e64f9-c9ad-4c0e-9987-52847c608101",
   "metadata": {
    "tags": []
   },
   "source": [
    "## From Exercise Review"
   ]
  },
  {
   "cell_type": "code",
   "execution_count": 1,
   "id": "6da75448-732d-4706-928b-dc18e910f602",
   "metadata": {
    "tags": []
   },
   "outputs": [],
   "source": [
    "# import our Random Forest model from sklearn:\n",
    "from sklearn.ensemble import RandomForestClassifier"
   ]
  },
  {
   "cell_type": "code",
   "execution_count": 46,
   "id": "6e24b5eb-f4bf-44c0-a966-e8352644a363",
   "metadata": {},
   "outputs": [],
   "source": [
    "# good news!\n",
    "# process is like, exactly the same:"
   ]
  },
  {
   "cell_type": "code",
   "execution_count": 47,
   "id": "86d0b486-eb5b-4772-bd35-eb4c61ab2ff9",
   "metadata": {},
   "outputs": [
    {
     "data": {
      "text/html": [
       "<style>#sk-container-id-4 {color: black;background-color: white;}#sk-container-id-4 pre{padding: 0;}#sk-container-id-4 div.sk-toggleable {background-color: white;}#sk-container-id-4 label.sk-toggleable__label {cursor: pointer;display: block;width: 100%;margin-bottom: 0;padding: 0.3em;box-sizing: border-box;text-align: center;}#sk-container-id-4 label.sk-toggleable__label-arrow:before {content: \"▸\";float: left;margin-right: 0.25em;color: #696969;}#sk-container-id-4 label.sk-toggleable__label-arrow:hover:before {color: black;}#sk-container-id-4 div.sk-estimator:hover label.sk-toggleable__label-arrow:before {color: black;}#sk-container-id-4 div.sk-toggleable__content {max-height: 0;max-width: 0;overflow: hidden;text-align: left;background-color: #f0f8ff;}#sk-container-id-4 div.sk-toggleable__content pre {margin: 0.2em;color: black;border-radius: 0.25em;background-color: #f0f8ff;}#sk-container-id-4 input.sk-toggleable__control:checked~div.sk-toggleable__content {max-height: 200px;max-width: 100%;overflow: auto;}#sk-container-id-4 input.sk-toggleable__control:checked~label.sk-toggleable__label-arrow:before {content: \"▾\";}#sk-container-id-4 div.sk-estimator input.sk-toggleable__control:checked~label.sk-toggleable__label {background-color: #d4ebff;}#sk-container-id-4 div.sk-label input.sk-toggleable__control:checked~label.sk-toggleable__label {background-color: #d4ebff;}#sk-container-id-4 input.sk-hidden--visually {border: 0;clip: rect(1px 1px 1px 1px);clip: rect(1px, 1px, 1px, 1px);height: 1px;margin: -1px;overflow: hidden;padding: 0;position: absolute;width: 1px;}#sk-container-id-4 div.sk-estimator {font-family: monospace;background-color: #f0f8ff;border: 1px dotted black;border-radius: 0.25em;box-sizing: border-box;margin-bottom: 0.5em;}#sk-container-id-4 div.sk-estimator:hover {background-color: #d4ebff;}#sk-container-id-4 div.sk-parallel-item::after {content: \"\";width: 100%;border-bottom: 1px solid gray;flex-grow: 1;}#sk-container-id-4 div.sk-label:hover label.sk-toggleable__label {background-color: #d4ebff;}#sk-container-id-4 div.sk-serial::before {content: \"\";position: absolute;border-left: 1px solid gray;box-sizing: border-box;top: 0;bottom: 0;left: 50%;z-index: 0;}#sk-container-id-4 div.sk-serial {display: flex;flex-direction: column;align-items: center;background-color: white;padding-right: 0.2em;padding-left: 0.2em;position: relative;}#sk-container-id-4 div.sk-item {position: relative;z-index: 1;}#sk-container-id-4 div.sk-parallel {display: flex;align-items: stretch;justify-content: center;background-color: white;position: relative;}#sk-container-id-4 div.sk-item::before, #sk-container-id-4 div.sk-parallel-item::before {content: \"\";position: absolute;border-left: 1px solid gray;box-sizing: border-box;top: 0;bottom: 0;left: 50%;z-index: -1;}#sk-container-id-4 div.sk-parallel-item {display: flex;flex-direction: column;z-index: 1;position: relative;background-color: white;}#sk-container-id-4 div.sk-parallel-item:first-child::after {align-self: flex-end;width: 50%;}#sk-container-id-4 div.sk-parallel-item:last-child::after {align-self: flex-start;width: 50%;}#sk-container-id-4 div.sk-parallel-item:only-child::after {width: 0;}#sk-container-id-4 div.sk-dashed-wrapped {border: 1px dashed gray;margin: 0 0.4em 0.5em 0.4em;box-sizing: border-box;padding-bottom: 0.4em;background-color: white;}#sk-container-id-4 div.sk-label label {font-family: monospace;font-weight: bold;display: inline-block;line-height: 1.2em;}#sk-container-id-4 div.sk-label-container {text-align: center;}#sk-container-id-4 div.sk-container {/* jupyter's `normalize.less` sets `[hidden] { display: none; }` but bootstrap.min.css set `[hidden] { display: none !important; }` so we also need the `!important` here to be able to override the default hidden behavior on the sphinx rendered scikit-learn.org. See: https://github.com/scikit-learn/scikit-learn/issues/21755 */display: inline-block !important;position: relative;}#sk-container-id-4 div.sk-text-repr-fallback {display: none;}</style><div id=\"sk-container-id-4\" class=\"sk-top-container\"><div class=\"sk-text-repr-fallback\"><pre>RandomForestClassifier(max_depth=5)</pre><b>In a Jupyter environment, please rerun this cell to show the HTML representation or trust the notebook. <br />On GitHub, the HTML representation is unable to render, please try loading this page with nbviewer.org.</b></div><div class=\"sk-container\" hidden><div class=\"sk-item\"><div class=\"sk-estimator sk-toggleable\"><input class=\"sk-toggleable__control sk-hidden--visually\" id=\"sk-estimator-id-4\" type=\"checkbox\" checked><label for=\"sk-estimator-id-4\" class=\"sk-toggleable__label sk-toggleable__label-arrow\">RandomForestClassifier</label><div class=\"sk-toggleable__content\"><pre>RandomForestClassifier(max_depth=5)</pre></div></div></div></div></div>"
      ],
      "text/plain": [
       "RandomForestClassifier(max_depth=5)"
      ]
     },
     "execution_count": 47,
     "metadata": {},
     "output_type": "execute_result"
    }
   ],
   "source": [
    "# make the thing:\n",
    "rf = RandomForestClassifier(max_depth=5)\n",
    "# fit the thing (ONLY ON TRAIN!! >:( )\n",
    "# lets try it on a subset of our features this time:\n",
    "# this time I'm going to say to train on the top three features\n",
    "# that we saw with our DT model.\n",
    "# this is a change in indepdent feature space, or parameters\n",
    "rf.fit(X_train[['sex_male', 'pclass', 'fare']], y_train)"
   ]
  },
  {
   "cell_type": "code",
   "execution_count": 51,
   "id": "bf0f9e48-bccc-47bf-b968-4f30f8c36d79",
   "metadata": {},
   "outputs": [],
   "source": [
    "rf_feats = ['sex_male', 'pclass', 'fare']\n",
    "# use the thing!\n",
    "y_pred['rf_1'] = rf.predict(X_train[rf_feats])"
   ]
  },
  {
   "cell_type": "code",
   "execution_count": 52,
   "id": "1e45c17b-5476-4cf8-89b1-5edea15446c5",
   "metadata": {},
   "outputs": [],
   "source": [
    "# do the same for validate"
   ]
  },
  {
   "cell_type": "code",
   "execution_count": 53,
   "id": "a7a8fda0-9573-427e-92c1-b357d0b9180b",
   "metadata": {},
   "outputs": [],
   "source": [
    "# lets split up our validate like our train for ease of use:\n",
    "X_val, y_val = val_encoded.drop(columns='survived'), val_encoded.survived"
   ]
  },
  {
   "cell_type": "code",
   "execution_count": 54,
   "id": "1ab3926a-f4eb-4fcd-bf1f-65e4f99ed7d9",
   "metadata": {},
   "outputs": [],
   "source": [
    "# project predictions into our val pred df,\n",
    "# we do this by calling rf.predict on the same feature subset\n",
    "# as we did with our training data\n",
    "y_val_pred['rf_1'] = rf.predict(X_val[rf_feats])"
   ]
  },
  {
   "cell_type": "code",
   "execution_count": 55,
   "id": "c9275f0f-52fa-451e-8748-c9784ca09d45",
   "metadata": {},
   "outputs": [
    {
     "data": {
      "text/plain": [
       "0.8614232209737828"
      ]
     },
     "execution_count": 55,
     "metadata": {},
     "output_type": "execute_result"
    }
   ],
   "source": [
    "# rf accuracy on training set:\n",
    "accuracy_score(y_pred.y_true, y_pred.rf_1)"
   ]
  },
  {
   "cell_type": "code",
   "execution_count": 56,
   "id": "b2146e10-03fe-4197-bae7-fdc01c29906f",
   "metadata": {},
   "outputs": [
    {
     "data": {
      "text/plain": [
       "0.7865168539325843"
      ]
     },
     "execution_count": 56,
     "metadata": {},
     "output_type": "execute_result"
    }
   ],
   "source": [
    "# rf accuracy on validation set:\n",
    "accuracy_score(y_val_pred.y_true, y_val_pred.rf_1)"
   ]
  },
  {
   "cell_type": "code",
   "execution_count": 59,
   "id": "3bbc83b4-8c56-41f7-a3b2-95cb808742c6",
   "metadata": {},
   "outputs": [
    {
     "data": {
      "text/html": [
       "<div>\n",
       "<style scoped>\n",
       "    .dataframe tbody tr th:only-of-type {\n",
       "        vertical-align: middle;\n",
       "    }\n",
       "\n",
       "    .dataframe tbody tr th {\n",
       "        vertical-align: top;\n",
       "    }\n",
       "\n",
       "    .dataframe thead th {\n",
       "        text-align: right;\n",
       "    }\n",
       "</style>\n",
       "<table border=\"1\" class=\"dataframe\">\n",
       "  <thead>\n",
       "    <tr style=\"text-align: right;\">\n",
       "      <th></th>\n",
       "      <th>precision</th>\n",
       "      <th>recall</th>\n",
       "      <th>f1-score</th>\n",
       "      <th>support</th>\n",
       "    </tr>\n",
       "  </thead>\n",
       "  <tbody>\n",
       "    <tr>\n",
       "      <th>0</th>\n",
       "      <td>0.847411</td>\n",
       "      <td>0.945289</td>\n",
       "      <td>0.893678</td>\n",
       "      <td>329.000000</td>\n",
       "    </tr>\n",
       "    <tr>\n",
       "      <th>1</th>\n",
       "      <td>0.892216</td>\n",
       "      <td>0.726829</td>\n",
       "      <td>0.801075</td>\n",
       "      <td>205.000000</td>\n",
       "    </tr>\n",
       "    <tr>\n",
       "      <th>accuracy</th>\n",
       "      <td>0.861423</td>\n",
       "      <td>0.861423</td>\n",
       "      <td>0.861423</td>\n",
       "      <td>0.861423</td>\n",
       "    </tr>\n",
       "    <tr>\n",
       "      <th>macro avg</th>\n",
       "      <td>0.869814</td>\n",
       "      <td>0.836059</td>\n",
       "      <td>0.847377</td>\n",
       "      <td>534.000000</td>\n",
       "    </tr>\n",
       "    <tr>\n",
       "      <th>weighted avg</th>\n",
       "      <td>0.864612</td>\n",
       "      <td>0.861423</td>\n",
       "      <td>0.858128</td>\n",
       "      <td>534.000000</td>\n",
       "    </tr>\n",
       "  </tbody>\n",
       "</table>\n",
       "</div>"
      ],
      "text/plain": [
       "              precision    recall  f1-score     support\n",
       "0              0.847411  0.945289  0.893678  329.000000\n",
       "1              0.892216  0.726829  0.801075  205.000000\n",
       "accuracy       0.861423  0.861423  0.861423    0.861423\n",
       "macro avg      0.869814  0.836059  0.847377  534.000000\n",
       "weighted avg   0.864612  0.861423  0.858128  534.000000"
      ]
     },
     "execution_count": 59,
     "metadata": {},
     "output_type": "execute_result"
    }
   ],
   "source": [
    "pd.DataFrame(\n",
    "    classification_report(\n",
    "        y_pred.y_true, y_pred.rf_1, output_dict=True)).T"
   ]
  },
  {
   "cell_type": "code",
   "execution_count": 60,
   "id": "66df1d8d-da33-4efe-8eaf-3fe2c6364602",
   "metadata": {},
   "outputs": [
    {
     "data": {
      "text/html": [
       "<div>\n",
       "<style scoped>\n",
       "    .dataframe tbody tr th:only-of-type {\n",
       "        vertical-align: middle;\n",
       "    }\n",
       "\n",
       "    .dataframe tbody tr th {\n",
       "        vertical-align: top;\n",
       "    }\n",
       "\n",
       "    .dataframe thead th {\n",
       "        text-align: right;\n",
       "    }\n",
       "</style>\n",
       "<table border=\"1\" class=\"dataframe\">\n",
       "  <thead>\n",
       "    <tr style=\"text-align: right;\">\n",
       "      <th></th>\n",
       "      <th>precision</th>\n",
       "      <th>recall</th>\n",
       "      <th>f1-score</th>\n",
       "      <th>support</th>\n",
       "    </tr>\n",
       "  </thead>\n",
       "  <tbody>\n",
       "    <tr>\n",
       "      <th>0</th>\n",
       "      <td>0.785714</td>\n",
       "      <td>0.900000</td>\n",
       "      <td>0.838983</td>\n",
       "      <td>110.000000</td>\n",
       "    </tr>\n",
       "    <tr>\n",
       "      <th>1</th>\n",
       "      <td>0.788462</td>\n",
       "      <td>0.602941</td>\n",
       "      <td>0.683333</td>\n",
       "      <td>68.000000</td>\n",
       "    </tr>\n",
       "    <tr>\n",
       "      <th>accuracy</th>\n",
       "      <td>0.786517</td>\n",
       "      <td>0.786517</td>\n",
       "      <td>0.786517</td>\n",
       "      <td>0.786517</td>\n",
       "    </tr>\n",
       "    <tr>\n",
       "      <th>macro avg</th>\n",
       "      <td>0.787088</td>\n",
       "      <td>0.751471</td>\n",
       "      <td>0.761158</td>\n",
       "      <td>178.000000</td>\n",
       "    </tr>\n",
       "    <tr>\n",
       "      <th>weighted avg</th>\n",
       "      <td>0.786764</td>\n",
       "      <td>0.786517</td>\n",
       "      <td>0.779521</td>\n",
       "      <td>178.000000</td>\n",
       "    </tr>\n",
       "  </tbody>\n",
       "</table>\n",
       "</div>"
      ],
      "text/plain": [
       "              precision    recall  f1-score     support\n",
       "0              0.785714  0.900000  0.838983  110.000000\n",
       "1              0.788462  0.602941  0.683333   68.000000\n",
       "accuracy       0.786517  0.786517  0.786517    0.786517\n",
       "macro avg      0.787088  0.751471  0.761158  178.000000\n",
       "weighted avg   0.786764  0.786517  0.779521  178.000000"
      ]
     },
     "execution_count": 60,
     "metadata": {},
     "output_type": "execute_result"
    }
   ],
   "source": [
    "pd.DataFrame(\n",
    "    classification_report(\n",
    "        y_val_pred.y_true, y_val_pred.rf_1, output_dict=True)).T"
   ]
  },
  {
   "cell_type": "code",
   "execution_count": 61,
   "id": "b62840aa-7841-486e-a402-a6ea0d118c1b",
   "metadata": {},
   "outputs": [],
   "source": [
    "# comparing just these two models so far:\n",
    "# it appears that our first Random Forest is more overfit\n",
    "# than our initial DT.  Note that we were a little more\n",
    "# lenient on the max depth with our RF, which seems to have had\n",
    "# an impact, but we also changed the features that it was able to\n",
    "# select from, which also likely had an impact"
   ]
  },
  {
   "cell_type": "code",
   "execution_count": 62,
   "id": "f175c4ba-1ef9-426f-91be-095350a11cab",
   "metadata": {},
   "outputs": [],
   "source": [
    "# TO-Dos:\n",
    "# make more models, both of Decision Trees and Random Forests\n",
    "# things to change as we make these models:\n",
    "# what features we are using\n",
    "# what hyperparameters we change\n",
    "# what to look for as we train these models:\n",
    "# performance (at first accuracy, f1/precision/recall as follow-up)\n",
    "# performance on train vs validate, paying attention to dropoff\n",
    "# that may indicate overfitting.\n",
    "# our best model should have a high degree of accuracy while still\n",
    "# maintaining a low dropoff for our validation set.\n",
    "# this is usually the model that has the highest validation accuracy\n",
    "# but not always.  Be mindful and record everything as you go\n",
    "# though this training process"
   ]
  },
  {
   "cell_type": "code",
   "execution_count": 63,
   "id": "6d15e7a1-8454-4295-8ffe-a22adaa460e4",
   "metadata": {},
   "outputs": [],
   "source": [
    "# at the very end, once we have chosen our best model\n",
    "# from all the ones we have trained, we will use .predict\n",
    "# one last time on our test data to see if that validation\n",
    "# performance maintains to faux production data"
   ]
  }
 ],
 "metadata": {
  "kernelspec": {
   "display_name": "Python 3 (ipykernel)",
   "language": "python",
   "name": "python3"
  },
  "language_info": {
   "codemirror_mode": {
    "name": "ipython",
    "version": 3
   },
   "file_extension": ".py",
   "mimetype": "text/x-python",
   "name": "python",
   "nbconvert_exporter": "python",
   "pygments_lexer": "ipython3",
   "version": "3.11.5"
  }
 },
 "nbformat": 4,
 "nbformat_minor": 5
}
