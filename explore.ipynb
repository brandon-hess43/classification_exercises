{
 "cells": [
  {
   "cell_type": "markdown",
   "id": "b52530ac-6fdf-45fe-9626-0c709e3dea61",
   "metadata": {},
   "source": [
    "# Explore (Exploratory Data Analysis or EDA) \n",
    "\n",
    "FROM LESSON\n",
    "\n",
    "What is it?\n",
    "\n",
    "- We explore the interactions of the attributes and target variable\n",
    "- Pipeline: Plan - Acquire - Prepare - **Explore** - Model - Deliver\n",
    "\n",
    "What do we care?\n",
    "\n",
    "- Learn the vast majority of our takeaways and interesting stories from the data\n",
    "- This section of the pipeline allows us to provide business insights\n",
    "- This section determine which features to send into our model "
   ]
  },
  {
   "cell_type": "markdown",
   "id": "e605731e-d11b-4ea1-907d-02d668c90f57",
   "metadata": {},
   "source": [
    "### Overall Process\n",
    "\n",
    "Acquire\n",
    "- pull in the data into pandas\n",
    "    - get from sql (write sql query)\n",
    "    - json file (use json library)\n",
    "- cache the data on your local device\n",
    "- look at your data! \n",
    "    - shape\n",
    "    - describe \n",
    "    - data types\n",
    "    - head()\n",
    "    - info \n",
    "- start thinking about what the data means\n",
    "    - understand what each columm means\n",
    "    - what does one row mean\n",
    "    - what is your target variable! \n",
    "- starting thinking relationships you want to investigate\n",
    "- end with an acquire py file\n",
    "\n",
    "\n",
    "Prepare\n",
    "- eliminate data that is duplicated (along rows or columns)\n",
    "- clean up data\n",
    "    - handle null values\n",
    "    - fix any incorrect values\n",
    "    - verify datatypes\n",
    "    - look at outliers\n",
    "- at the end of the prepare phase, split your data into train, validate, and test\n",
    "- end with a prepare py file\n",
    "\n",
    "Explore\n",
    "- work only with TRAIN data\n",
    "- exploring features/relationship\n",
    "     - find out what affects our target variable\n",
    "     - find relationships between features\n",
    "     - bivariate analysis (looking at 2 variables)\n",
    "     - multivariabe analysis (looking at 3+ variables)\n",
    "- do a lot of documentation, write conclusions\n",
    "\n",
    "Model\n",
    "- to be discussed \n",
    "- use features that we found affect our target variable and stuff them in our model\n"
   ]
  },
  {
   "cell_type": "markdown",
   "id": "8dada01d-f7f1-44e6-9d0b-bc14fe1f7b48",
   "metadata": {},
   "source": [
    "### Explore features process\n",
    "\n",
    "1. Hypothesize\n",
    "    - Write out your question about how your features interact with each other or with the target variable\n",
    "    - Write this in normal language (not a statistical hypotheses)\n",
    "\n",
    "\n",
    "2. Visualize\n",
    "    - Plot the features in your question\n",
    "    - Use the appropriate plot for your types of varibles (categorical vs continuous)\n",
    "\n",
    "\n",
    "3. Analyze (with statistics)\n",
    "    - Test your question with a statistical test\n",
    "    - Use the appropriate statistical tests for your types of varibles (categorical vs continuous)\n",
    "\n",
    "\n",
    "4. Summarize\n",
    "    - Write the takeaway from your question, plot, and stats test"
   ]
  },
  {
   "cell_type": "markdown",
   "id": "97ed8cef-d0dc-4c6f-a9f0-c32e908cfcbf",
   "metadata": {},
   "source": [
    "### Explore Guidance \n",
    "    \n",
    "\n",
    "1. Bivariate Stats\n",
    "    - two variables\n",
    "    - plot the interactions of two variables\n",
    "\n",
    "\n",
    "2. Multivariate Stats \n",
    "    - more than 2 variables\n",
    "    - use color or columns to represent a third variable\n",
    "    - ensure the plot selected is appropriate for the other variables\n",
    "\n",
    "\n",
    "4. Statistical Tests\n",
    "    - continuous to continuous: correlation\n",
    "    - categorical to categorical: chi^2 \n",
    "    - continuous to categorical: comparing means test"
   ]
  },
  {
   "cell_type": "markdown",
   "id": "c7825577-e5c2-48ac-bcf3-fb0ca21f08a2",
   "metadata": {},
   "source": [
    "## Continue with the Titanic Dataset"
   ]
  },
  {
   "cell_type": "code",
   "execution_count": 1,
   "id": "dee04d6b-5cb6-441d-a9f1-50b7cb80f7a9",
   "metadata": {},
   "outputs": [],
   "source": [
    "#data manipulations\n",
    "import pandas as pd\n",
    "import numpy as np\n",
    "\n",
    "#visualization\n",
    "import matplotlib.pyplot as plt\n",
    "import seaborn as sns\n",
    "\n",
    "#stats is great\n",
    "from scipy import stats\n",
    "\n",
    "#my own files with my own functions\n",
    "import acquire\n",
    "import prepare"
   ]
  },
  {
   "cell_type": "markdown",
   "id": "534a4fcc-a13e-40ba-8785-a3195f5d1d93",
   "metadata": {},
   "source": [
    "## Acquire"
   ]
  },
  {
   "cell_type": "code",
   "execution_count": 2,
   "id": "b4ed2fcc-a018-49aa-bea5-2ae5da4f08d7",
   "metadata": {},
   "outputs": [
    {
     "name": "stdout",
     "output_type": "stream",
     "text": [
      "this file exists, reading csv\n"
     ]
    }
   ],
   "source": [
    "#get the data using my function in my acquire file\n",
    "df = acquire.get_titanic_data()"
   ]
  },
  {
   "cell_type": "code",
   "execution_count": 3,
   "id": "18df0cc3-a459-4cba-aad9-7eca1eb16458",
   "metadata": {},
   "outputs": [
    {
     "data": {
      "text/html": [
       "<div>\n",
       "<style scoped>\n",
       "    .dataframe tbody tr th:only-of-type {\n",
       "        vertical-align: middle;\n",
       "    }\n",
       "\n",
       "    .dataframe tbody tr th {\n",
       "        vertical-align: top;\n",
       "    }\n",
       "\n",
       "    .dataframe thead th {\n",
       "        text-align: right;\n",
       "    }\n",
       "</style>\n",
       "<table border=\"1\" class=\"dataframe\">\n",
       "  <thead>\n",
       "    <tr style=\"text-align: right;\">\n",
       "      <th></th>\n",
       "      <th>passenger_id</th>\n",
       "      <th>survived</th>\n",
       "      <th>pclass</th>\n",
       "      <th>sex</th>\n",
       "      <th>age</th>\n",
       "      <th>sibsp</th>\n",
       "      <th>parch</th>\n",
       "      <th>fare</th>\n",
       "      <th>embarked</th>\n",
       "      <th>class</th>\n",
       "      <th>deck</th>\n",
       "      <th>embark_town</th>\n",
       "      <th>alone</th>\n",
       "    </tr>\n",
       "  </thead>\n",
       "  <tbody>\n",
       "    <tr>\n",
       "      <th>0</th>\n",
       "      <td>0</td>\n",
       "      <td>0</td>\n",
       "      <td>3</td>\n",
       "      <td>male</td>\n",
       "      <td>22.0</td>\n",
       "      <td>1</td>\n",
       "      <td>0</td>\n",
       "      <td>7.2500</td>\n",
       "      <td>S</td>\n",
       "      <td>Third</td>\n",
       "      <td>NaN</td>\n",
       "      <td>Southampton</td>\n",
       "      <td>0</td>\n",
       "    </tr>\n",
       "    <tr>\n",
       "      <th>1</th>\n",
       "      <td>1</td>\n",
       "      <td>1</td>\n",
       "      <td>1</td>\n",
       "      <td>female</td>\n",
       "      <td>38.0</td>\n",
       "      <td>1</td>\n",
       "      <td>0</td>\n",
       "      <td>71.2833</td>\n",
       "      <td>C</td>\n",
       "      <td>First</td>\n",
       "      <td>C</td>\n",
       "      <td>Cherbourg</td>\n",
       "      <td>0</td>\n",
       "    </tr>\n",
       "    <tr>\n",
       "      <th>2</th>\n",
       "      <td>2</td>\n",
       "      <td>1</td>\n",
       "      <td>3</td>\n",
       "      <td>female</td>\n",
       "      <td>26.0</td>\n",
       "      <td>0</td>\n",
       "      <td>0</td>\n",
       "      <td>7.9250</td>\n",
       "      <td>S</td>\n",
       "      <td>Third</td>\n",
       "      <td>NaN</td>\n",
       "      <td>Southampton</td>\n",
       "      <td>1</td>\n",
       "    </tr>\n",
       "    <tr>\n",
       "      <th>3</th>\n",
       "      <td>3</td>\n",
       "      <td>1</td>\n",
       "      <td>1</td>\n",
       "      <td>female</td>\n",
       "      <td>35.0</td>\n",
       "      <td>1</td>\n",
       "      <td>0</td>\n",
       "      <td>53.1000</td>\n",
       "      <td>S</td>\n",
       "      <td>First</td>\n",
       "      <td>C</td>\n",
       "      <td>Southampton</td>\n",
       "      <td>0</td>\n",
       "    </tr>\n",
       "    <tr>\n",
       "      <th>4</th>\n",
       "      <td>4</td>\n",
       "      <td>0</td>\n",
       "      <td>3</td>\n",
       "      <td>male</td>\n",
       "      <td>35.0</td>\n",
       "      <td>0</td>\n",
       "      <td>0</td>\n",
       "      <td>8.0500</td>\n",
       "      <td>S</td>\n",
       "      <td>Third</td>\n",
       "      <td>NaN</td>\n",
       "      <td>Southampton</td>\n",
       "      <td>1</td>\n",
       "    </tr>\n",
       "  </tbody>\n",
       "</table>\n",
       "</div>"
      ],
      "text/plain": [
       "   passenger_id  survived  pclass     sex   age  sibsp  parch     fare  \\\n",
       "0             0         0       3    male  22.0      1      0   7.2500   \n",
       "1             1         1       1  female  38.0      1      0  71.2833   \n",
       "2             2         1       3  female  26.0      0      0   7.9250   \n",
       "3             3         1       1  female  35.0      1      0  53.1000   \n",
       "4             4         0       3    male  35.0      0      0   8.0500   \n",
       "\n",
       "  embarked  class deck  embark_town  alone  \n",
       "0        S  Third  NaN  Southampton      0  \n",
       "1        C  First    C    Cherbourg      0  \n",
       "2        S  Third  NaN  Southampton      1  \n",
       "3        S  First    C  Southampton      0  \n",
       "4        S  Third  NaN  Southampton      1  "
      ]
     },
     "execution_count": 3,
     "metadata": {},
     "output_type": "execute_result"
    }
   ],
   "source": [
    "#look at it\n",
    "df.head()"
   ]
  },
  {
   "cell_type": "code",
   "execution_count": 4,
   "id": "bc3584fa-505b-4e7d-ba09-d2263e641d8d",
   "metadata": {},
   "outputs": [
    {
     "name": "stdout",
     "output_type": "stream",
     "text": [
      "<class 'pandas.core.frame.DataFrame'>\n",
      "Int64Index: 891 entries, 0 to 890\n",
      "Data columns (total 13 columns):\n",
      " #   Column        Non-Null Count  Dtype  \n",
      "---  ------        --------------  -----  \n",
      " 0   passenger_id  891 non-null    int64  \n",
      " 1   survived      891 non-null    int64  \n",
      " 2   pclass        891 non-null    int64  \n",
      " 3   sex           891 non-null    object \n",
      " 4   age           714 non-null    float64\n",
      " 5   sibsp         891 non-null    int64  \n",
      " 6   parch         891 non-null    int64  \n",
      " 7   fare          891 non-null    float64\n",
      " 8   embarked      889 non-null    object \n",
      " 9   class         891 non-null    object \n",
      " 10  deck          203 non-null    object \n",
      " 11  embark_town   889 non-null    object \n",
      " 12  alone         891 non-null    int64  \n",
      "dtypes: float64(2), int64(6), object(5)\n",
      "memory usage: 97.5+ KB\n"
     ]
    }
   ],
   "source": [
    "df.info()"
   ]
  },
  {
   "cell_type": "code",
   "execution_count": 5,
   "id": "73983ea2-8e7f-4f9f-8048-633209703ab3",
   "metadata": {},
   "outputs": [
    {
     "data": {
      "text/plain": [
       "(891, 13)"
      ]
     },
     "execution_count": 5,
     "metadata": {},
     "output_type": "execute_result"
    }
   ],
   "source": [
    "df.shape"
   ]
  },
  {
   "cell_type": "code",
   "execution_count": 6,
   "id": "8e4a8f09-12fb-4cee-a2e0-b73892682249",
   "metadata": {},
   "outputs": [
    {
     "data": {
      "text/html": [
       "<div>\n",
       "<style scoped>\n",
       "    .dataframe tbody tr th:only-of-type {\n",
       "        vertical-align: middle;\n",
       "    }\n",
       "\n",
       "    .dataframe tbody tr th {\n",
       "        vertical-align: top;\n",
       "    }\n",
       "\n",
       "    .dataframe thead th {\n",
       "        text-align: right;\n",
       "    }\n",
       "</style>\n",
       "<table border=\"1\" class=\"dataframe\">\n",
       "  <thead>\n",
       "    <tr style=\"text-align: right;\">\n",
       "      <th></th>\n",
       "      <th>passenger_id</th>\n",
       "      <th>survived</th>\n",
       "      <th>pclass</th>\n",
       "      <th>age</th>\n",
       "      <th>sibsp</th>\n",
       "      <th>parch</th>\n",
       "      <th>fare</th>\n",
       "      <th>alone</th>\n",
       "    </tr>\n",
       "  </thead>\n",
       "  <tbody>\n",
       "    <tr>\n",
       "      <th>count</th>\n",
       "      <td>891.000000</td>\n",
       "      <td>891.000000</td>\n",
       "      <td>891.000000</td>\n",
       "      <td>714.000000</td>\n",
       "      <td>891.000000</td>\n",
       "      <td>891.000000</td>\n",
       "      <td>891.000000</td>\n",
       "      <td>891.000000</td>\n",
       "    </tr>\n",
       "    <tr>\n",
       "      <th>mean</th>\n",
       "      <td>445.000000</td>\n",
       "      <td>0.383838</td>\n",
       "      <td>2.308642</td>\n",
       "      <td>29.699118</td>\n",
       "      <td>0.523008</td>\n",
       "      <td>0.381594</td>\n",
       "      <td>32.204208</td>\n",
       "      <td>0.602694</td>\n",
       "    </tr>\n",
       "    <tr>\n",
       "      <th>std</th>\n",
       "      <td>257.353842</td>\n",
       "      <td>0.486592</td>\n",
       "      <td>0.836071</td>\n",
       "      <td>14.526497</td>\n",
       "      <td>1.102743</td>\n",
       "      <td>0.806057</td>\n",
       "      <td>49.693429</td>\n",
       "      <td>0.489615</td>\n",
       "    </tr>\n",
       "    <tr>\n",
       "      <th>min</th>\n",
       "      <td>0.000000</td>\n",
       "      <td>0.000000</td>\n",
       "      <td>1.000000</td>\n",
       "      <td>0.420000</td>\n",
       "      <td>0.000000</td>\n",
       "      <td>0.000000</td>\n",
       "      <td>0.000000</td>\n",
       "      <td>0.000000</td>\n",
       "    </tr>\n",
       "    <tr>\n",
       "      <th>25%</th>\n",
       "      <td>222.500000</td>\n",
       "      <td>0.000000</td>\n",
       "      <td>2.000000</td>\n",
       "      <td>20.125000</td>\n",
       "      <td>0.000000</td>\n",
       "      <td>0.000000</td>\n",
       "      <td>7.910400</td>\n",
       "      <td>0.000000</td>\n",
       "    </tr>\n",
       "    <tr>\n",
       "      <th>50%</th>\n",
       "      <td>445.000000</td>\n",
       "      <td>0.000000</td>\n",
       "      <td>3.000000</td>\n",
       "      <td>28.000000</td>\n",
       "      <td>0.000000</td>\n",
       "      <td>0.000000</td>\n",
       "      <td>14.454200</td>\n",
       "      <td>1.000000</td>\n",
       "    </tr>\n",
       "    <tr>\n",
       "      <th>75%</th>\n",
       "      <td>667.500000</td>\n",
       "      <td>1.000000</td>\n",
       "      <td>3.000000</td>\n",
       "      <td>38.000000</td>\n",
       "      <td>1.000000</td>\n",
       "      <td>0.000000</td>\n",
       "      <td>31.000000</td>\n",
       "      <td>1.000000</td>\n",
       "    </tr>\n",
       "    <tr>\n",
       "      <th>max</th>\n",
       "      <td>890.000000</td>\n",
       "      <td>1.000000</td>\n",
       "      <td>3.000000</td>\n",
       "      <td>80.000000</td>\n",
       "      <td>8.000000</td>\n",
       "      <td>6.000000</td>\n",
       "      <td>512.329200</td>\n",
       "      <td>1.000000</td>\n",
       "    </tr>\n",
       "  </tbody>\n",
       "</table>\n",
       "</div>"
      ],
      "text/plain": [
       "       passenger_id    survived      pclass         age       sibsp  \\\n",
       "count    891.000000  891.000000  891.000000  714.000000  891.000000   \n",
       "mean     445.000000    0.383838    2.308642   29.699118    0.523008   \n",
       "std      257.353842    0.486592    0.836071   14.526497    1.102743   \n",
       "min        0.000000    0.000000    1.000000    0.420000    0.000000   \n",
       "25%      222.500000    0.000000    2.000000   20.125000    0.000000   \n",
       "50%      445.000000    0.000000    3.000000   28.000000    0.000000   \n",
       "75%      667.500000    1.000000    3.000000   38.000000    1.000000   \n",
       "max      890.000000    1.000000    3.000000   80.000000    8.000000   \n",
       "\n",
       "            parch        fare       alone  \n",
       "count  891.000000  891.000000  891.000000  \n",
       "mean     0.381594   32.204208    0.602694  \n",
       "std      0.806057   49.693429    0.489615  \n",
       "min      0.000000    0.000000    0.000000  \n",
       "25%      0.000000    7.910400    0.000000  \n",
       "50%      0.000000   14.454200    1.000000  \n",
       "75%      0.000000   31.000000    1.000000  \n",
       "max      6.000000  512.329200    1.000000  "
      ]
     },
     "execution_count": 6,
     "metadata": {},
     "output_type": "execute_result"
    }
   ],
   "source": [
    "df.describe()"
   ]
  },
  {
   "cell_type": "markdown",
   "id": "91787135-b2ea-4cc2-83f9-7899a7dc12e4",
   "metadata": {},
   "source": [
    "### Univariate Stats"
   ]
  },
  {
   "cell_type": "code",
   "execution_count": 7,
   "id": "1285dfda-bfa2-4837-b6ec-a7b96e6e0ae4",
   "metadata": {},
   "outputs": [
    {
     "data": {
      "text/plain": [
       "passenger_id    891\n",
       "survived          2\n",
       "pclass            3\n",
       "sex               2\n",
       "age              88\n",
       "sibsp             7\n",
       "parch             7\n",
       "fare            248\n",
       "embarked          3\n",
       "class             3\n",
       "deck              7\n",
       "embark_town       3\n",
       "alone             2\n",
       "dtype: int64"
      ]
     },
     "execution_count": 7,
     "metadata": {},
     "output_type": "execute_result"
    }
   ],
   "source": [
    "df.nunique()"
   ]
  },
  {
   "cell_type": "code",
   "execution_count": 8,
   "id": "1c485f1f-fe71-47d1-bc20-b2b27f39d4e4",
   "metadata": {},
   "outputs": [
    {
     "name": "stdout",
     "output_type": "stream",
     "text": [
      "passenger_id\n",
      "int64\n",
      "this is a number\n",
      "891\n",
      "\n",
      "survived\n",
      "int64\n",
      "this is a number\n",
      "2\n",
      "treat as categorical variable\n",
      "\n",
      "pclass\n",
      "int64\n",
      "this is a number\n",
      "3\n",
      "treat as categorical variable\n",
      "\n",
      "sex\n",
      "object\n",
      "this is a string variable\n",
      "\n",
      "age\n",
      "float64\n",
      "this is a number\n",
      "88\n",
      "\n",
      "sibsp\n",
      "int64\n",
      "this is a number\n",
      "7\n",
      "treat as categorical variable\n",
      "\n",
      "parch\n",
      "int64\n",
      "this is a number\n",
      "7\n",
      "treat as categorical variable\n",
      "\n",
      "fare\n",
      "float64\n",
      "this is a number\n",
      "248\n",
      "\n",
      "embarked\n",
      "object\n",
      "this is a string variable\n",
      "\n",
      "class\n",
      "object\n",
      "this is a string variable\n",
      "\n",
      "deck\n",
      "object\n",
      "this is a string variable\n",
      "\n",
      "embark_town\n",
      "object\n",
      "this is a string variable\n",
      "\n",
      "alone\n",
      "int64\n",
      "this is a number\n",
      "2\n",
      "treat as categorical variable\n",
      "\n"
     ]
    }
   ],
   "source": [
    "#intializing empty lists\n",
    "cat_col = []\n",
    "con_col = []\n",
    "\n",
    "#looping through all my columns\n",
    "for col in df.columns:\n",
    "    \n",
    "    #finding all my string columns\n",
    "    print(col)\n",
    "    print(df[col].dtype)\n",
    "    if df[col].dtype == 'object':\n",
    "        print('this is a string variable')\n",
    "        cat_col.append(col)\n",
    "    else:\n",
    "        print('this is a number')\n",
    "        \n",
    "        #check for how many unique values\n",
    "        print(df[col].nunique())\n",
    "        if df[col].nunique() < 10:\n",
    "            print('treat as categorical variable')\n",
    "            cat_col.append(col)\n",
    "        else: \n",
    "            #if it has more than 10 unique values, append to continous column variable\n",
    "            con_col.append(col)\n",
    "    print()"
   ]
  },
  {
   "cell_type": "code",
   "execution_count": 9,
   "id": "6ea3228d-ef4c-400f-ad90-f4eed3628ecc",
   "metadata": {},
   "outputs": [
    {
     "data": {
      "text/plain": [
       "['survived',\n",
       " 'pclass',\n",
       " 'sex',\n",
       " 'sibsp',\n",
       " 'parch',\n",
       " 'embarked',\n",
       " 'class',\n",
       " 'deck',\n",
       " 'embark_town',\n",
       " 'alone']"
      ]
     },
     "execution_count": 9,
     "metadata": {},
     "output_type": "execute_result"
    }
   ],
   "source": [
    "cat_col"
   ]
  },
  {
   "cell_type": "code",
   "execution_count": 10,
   "id": "7e61fd83-5a9a-49ea-8b3a-f1eaf2926a14",
   "metadata": {},
   "outputs": [
    {
     "data": {
      "text/plain": [
       "['passenger_id', 'age', 'fare']"
      ]
     },
     "execution_count": 10,
     "metadata": {},
     "output_type": "execute_result"
    }
   ],
   "source": [
    "con_col"
   ]
  },
  {
   "cell_type": "markdown",
   "id": "32adec83-2901-4c2b-b35f-a18367857062",
   "metadata": {},
   "source": [
    "#### categorical variables\n",
    "- value_counts\n",
    "- bar plots"
   ]
  },
  {
   "cell_type": "code",
   "execution_count": 11,
   "id": "bd99231d-98af-45e8-afa3-6d63aab74d76",
   "metadata": {},
   "outputs": [
    {
     "name": "stdout",
     "output_type": "stream",
     "text": [
      "survived\n",
      "0    549\n",
      "1    342\n",
      "Name: survived, dtype: int64\n",
      "0    0.616162\n",
      "1    0.383838\n",
      "Name: survived, dtype: float64\n",
      "Axes(0.125,0.11;0.775x0.77)\n"
     ]
    },
    {
     "data": {
      "image/png": "[encoded data removed]",
      "text/plain": [
       "<Figure size 640x480 with 1 Axes>"
      ]
     },
     "metadata": {},
     "output_type": "display_data"
    },
    {
     "name": "stdout",
     "output_type": "stream",
     "text": [
      "\n",
      "pclass\n",
      "3    491\n",
      "1    216\n",
      "2    184\n",
      "Name: pclass, dtype: int64\n",
      "3    0.551066\n",
      "1    0.242424\n",
      "2    0.206510\n",
      "Name: pclass, dtype: float64\n",
      "Axes(0.125,0.11;0.775x0.77)\n"
     ]
    },
    {
     "data": {
      "image/png": "[encoded data removed]",
      "text/plain": [
       "<Figure size 640x480 with 1 Axes>"
      ]
     },
     "metadata": {},
     "output_type": "display_data"
    },
    {
     "name": "stdout",
     "output_type": "stream",
     "text": [
      "\n",
      "sex\n",
      "male      577\n",
      "female    314\n",
      "Name: sex, dtype: int64\n",
      "male      0.647587\n",
      "female    0.352413\n",
      "Name: sex, dtype: float64\n",
      "Axes(0.125,0.11;0.775x0.77)\n"
     ]
    },
    {
     "data": {
      "image/png": "[encoded data removed]",
      "text/plain": [
       "<Figure size 640x480 with 1 Axes>"
      ]
     },
     "metadata": {},
     "output_type": "display_data"
    },
    {
     "name": "stdout",
     "output_type": "stream",
     "text": [
      "\n",
      "sibsp\n",
      "0    608\n",
      "1    209\n",
      "2     28\n",
      "4     18\n",
      "3     16\n",
      "8      7\n",
      "5      5\n",
      "Name: sibsp, dtype: int64\n",
      "0    0.682379\n",
      "1    0.234568\n",
      "2    0.031425\n",
      "4    0.020202\n",
      "3    0.017957\n",
      "8    0.007856\n",
      "5    0.005612\n",
      "Name: sibsp, dtype: float64\n",
      "Axes(0.125,0.11;0.775x0.77)\n"
     ]
    },
    {
     "data": {
      "image/png": "[encoded data removed]",
      "text/plain": [
       "<Figure size 640x480 with 1 Axes>"
      ]
     },
     "metadata": {},
     "output_type": "display_data"
    },
    {
     "name": "stdout",
     "output_type": "stream",
     "text": [
      "\n",
      "parch\n",
      "0    678\n",
      "1    118\n",
      "2     80\n",
      "5      5\n",
      "3      5\n",
      "4      4\n",
      "6      1\n",
      "Name: parch, dtype: int64\n",
      "0    0.760943\n",
      "1    0.132435\n",
      "2    0.089787\n",
      "5    0.005612\n",
      "3    0.005612\n",
      "4    0.004489\n",
      "6    0.001122\n",
      "Name: parch, dtype: float64\n",
      "Axes(0.125,0.11;0.775x0.77)\n"
     ]
    },
    {
     "data": {
      "image/png": "[encoded data removed]",
      "text/plain": [
       "<Figure size 640x480 with 1 Axes>"
      ]
     },
     "metadata": {},
     "output_type": "display_data"
    },
    {
     "name": "stdout",
     "output_type": "stream",
     "text": [
      "\n",
      "embarked\n",
      "S    644\n",
      "C    168\n",
      "Q     77\n",
      "Name: embarked, dtype: int64\n",
      "S    0.724409\n",
      "C    0.188976\n",
      "Q    0.086614\n",
      "Name: embarked, dtype: float64\n",
      "Axes(0.125,0.11;0.775x0.77)\n"
     ]
    },
    {
     "data": {
      "image/png": "[encoded data removed]",
      "text/plain": [
       "<Figure size 640x480 with 1 Axes>"
      ]
     },
     "metadata": {},
     "output_type": "display_data"
    },
    {
     "name": "stdout",
     "output_type": "stream",
     "text": [
      "\n",
      "class\n",
      "Third     491\n",
      "First     216\n",
      "Second    184\n",
      "Name: class, dtype: int64\n",
      "Third     0.551066\n",
      "First     0.242424\n",
      "Second    0.206510\n",
      "Name: class, dtype: float64\n",
      "Axes(0.125,0.11;0.775x0.77)\n"
     ]
    },
    {
     "data": {
      "image/png": "[encoded data removed]",
      "text/plain": [
       "<Figure size 640x480 with 1 Axes>"
      ]
     },
     "metadata": {},
     "output_type": "display_data"
    },
    {
     "name": "stdout",
     "output_type": "stream",
     "text": [
      "\n",
      "deck\n",
      "C    59\n",
      "B    47\n",
      "D    33\n",
      "E    32\n",
      "A    15\n",
      "F    13\n",
      "G     4\n",
      "Name: deck, dtype: int64\n",
      "C    0.290640\n",
      "B    0.231527\n",
      "D    0.162562\n",
      "E    0.157635\n",
      "A    0.073892\n",
      "F    0.064039\n",
      "G    0.019704\n",
      "Name: deck, dtype: float64\n",
      "Axes(0.125,0.11;0.775x0.77)\n"
     ]
    },
    {
     "data": {
      "image/png": "[encoded data removed]",
      "text/plain": [
       "<Figure size 640x480 with 1 Axes>"
      ]
     },
     "metadata": {},
     "output_type": "display_data"
    },
    {
     "name": "stdout",
     "output_type": "stream",
     "text": [
      "\n",
      "embark_town\n",
      "Southampton    644\n",
      "Cherbourg      168\n",
      "Queenstown      77\n",
      "Name: embark_town, dtype: int64\n",
      "Southampton    0.724409\n",
      "Cherbourg      0.188976\n",
      "Queenstown     0.086614\n",
      "Name: embark_town, dtype: float64\n",
      "Axes(0.125,0.11;0.775x0.77)\n"
     ]
    },
    {
     "data": {
      "image/png": "[encoded data removed]",
      "text/plain": [
       "<Figure size 640x480 with 1 Axes>"
      ]
     },
     "metadata": {},
     "output_type": "display_data"
    },
    {
     "name": "stdout",
     "output_type": "stream",
     "text": [
      "\n",
      "alone\n",
      "1    537\n",
      "0    354\n",
      "Name: alone, dtype: int64\n",
      "1    0.602694\n",
      "0    0.397306\n",
      "Name: alone, dtype: float64\n",
      "Axes(0.125,0.11;0.775x0.77)\n"
     ]
    },
    {
     "data": {
      "image/png": "[encoded data removed]",
      "text/plain": [
       "<Figure size 640x480 with 1 Axes>"
      ]
     },
     "metadata": {},
     "output_type": "display_data"
    },
    {
     "name": "stdout",
     "output_type": "stream",
     "text": [
      "\n"
     ]
    }
   ],
   "source": [
    "for col in cat_col:\n",
    "    print(col)\n",
    "    print(df[col].value_counts())\n",
    "    print(df[col].value_counts(normalize=True))\n",
    "    print(df[col].value_counts().sort_index().plot.bar())\n",
    "    plt.show()\n",
    "    print()"
   ]
  },
  {
   "cell_type": "markdown",
   "id": "a1ec47be-009f-470a-a1c6-d14383f353a6",
   "metadata": {},
   "source": [
    "#### numeric variables\n",
    "- value_counts with bins\n",
    "- histogram"
   ]
  },
  {
   "cell_type": "code",
   "execution_count": 12,
   "id": "8891689b-aa18-46aa-8a36-778308b5b94f",
   "metadata": {},
   "outputs": [
    {
     "name": "stdout",
     "output_type": "stream",
     "text": [
      "passenger_id\n",
      "(-0.891, 89.0]    90\n",
      "(89.0, 178.0]     89\n",
      "(178.0, 267.0]    89\n",
      "(267.0, 356.0]    89\n",
      "(356.0, 445.0]    89\n",
      "(445.0, 534.0]    89\n",
      "(534.0, 623.0]    89\n",
      "(623.0, 712.0]    89\n",
      "(712.0, 801.0]    89\n",
      "(801.0, 890.0]    89\n",
      "Name: passenger_id, dtype: int64\n"
     ]
    },
    {
     "data": {
      "image/png": "[encoded data removed]",
      "text/plain": [
       "<Figure size 640x480 with 1 Axes>"
      ]
     },
     "metadata": {},
     "output_type": "display_data"
    },
    {
     "name": "stdout",
     "output_type": "stream",
     "text": [
      "age\n",
      "(0.339, 8.378]       54\n",
      "(8.378, 16.336]      46\n",
      "(16.336, 24.294]    177\n",
      "(24.294, 32.252]    169\n",
      "(32.252, 40.21]     118\n",
      "(40.21, 48.168]      70\n",
      "(48.168, 56.126]     45\n",
      "(56.126, 64.084]     24\n",
      "(64.084, 72.042]      9\n",
      "(72.042, 80.0]        2\n",
      "Name: age, dtype: int64\n"
     ]
    },
    {
     "data": {
      "image/png": "[encoded data removed]",
      "text/plain": [
       "<Figure size 640x480 with 1 Axes>"
      ]
     },
     "metadata": {},
     "output_type": "display_data"
    },
    {
     "name": "stdout",
     "output_type": "stream",
     "text": [
      "fare\n",
      "(-0.513, 51.233]      732\n",
      "(51.233, 102.466]     106\n",
      "(102.466, 153.699]     31\n",
      "(153.699, 204.932]      2\n",
      "(204.932, 256.165]     11\n",
      "(256.165, 307.398]      6\n",
      "(307.398, 358.63]       0\n",
      "(358.63, 409.863]       0\n",
      "(409.863, 461.096]      0\n",
      "(461.096, 512.329]      3\n",
      "Name: fare, dtype: int64\n"
     ]
    },
    {
     "data": {
      "image/png": "[encoded data removed]",
      "text/plain": [
       "<Figure size 640x480 with 1 Axes>"
      ]
     },
     "metadata": {},
     "output_type": "display_data"
    }
   ],
   "source": [
    "for col in con_col:\n",
    "    print(col)\n",
    "    print(df[col].value_counts(bins=10).sort_index())\n",
    "    df[col].hist()\n",
    "    plt.show()"
   ]
  },
  {
   "cell_type": "markdown",
   "id": "b71d421f-10e1-4776-98e2-e3fd77a9f1d8",
   "metadata": {},
   "source": [
    "## Prepare"
   ]
  },
  {
   "cell_type": "code",
   "execution_count": 13,
   "id": "56685f4a-89ad-490f-bc6a-ff273cecaf0e",
   "metadata": {},
   "outputs": [],
   "source": [
    "#clean and split my data using my function in my prepare file\n",
    "df = prepare.clean_titanic(df)"
   ]
  },
  {
   "cell_type": "code",
   "execution_count": 14,
   "id": "3733e398-2b81-4ad3-ac8e-2760eb51e42d",
   "metadata": {},
   "outputs": [
    {
     "data": {
      "text/html": [
       "<div>\n",
       "<style scoped>\n",
       "    .dataframe tbody tr th:only-of-type {\n",
       "        vertical-align: middle;\n",
       "    }\n",
       "\n",
       "    .dataframe tbody tr th {\n",
       "        vertical-align: top;\n",
       "    }\n",
       "\n",
       "    .dataframe thead th {\n",
       "        text-align: right;\n",
       "    }\n",
       "</style>\n",
       "<table border=\"1\" class=\"dataframe\">\n",
       "  <thead>\n",
       "    <tr style=\"text-align: right;\">\n",
       "      <th></th>\n",
       "      <th>passenger_id</th>\n",
       "      <th>survived</th>\n",
       "      <th>pclass</th>\n",
       "      <th>sex</th>\n",
       "      <th>sibsp</th>\n",
       "      <th>parch</th>\n",
       "      <th>fare</th>\n",
       "      <th>embark_town</th>\n",
       "      <th>alone</th>\n",
       "    </tr>\n",
       "  </thead>\n",
       "  <tbody>\n",
       "    <tr>\n",
       "      <th>0</th>\n",
       "      <td>0</td>\n",
       "      <td>0</td>\n",
       "      <td>3</td>\n",
       "      <td>male</td>\n",
       "      <td>1</td>\n",
       "      <td>0</td>\n",
       "      <td>7.2500</td>\n",
       "      <td>Southampton</td>\n",
       "      <td>0</td>\n",
       "    </tr>\n",
       "    <tr>\n",
       "      <th>1</th>\n",
       "      <td>1</td>\n",
       "      <td>1</td>\n",
       "      <td>1</td>\n",
       "      <td>female</td>\n",
       "      <td>1</td>\n",
       "      <td>0</td>\n",
       "      <td>71.2833</td>\n",
       "      <td>Cherbourg</td>\n",
       "      <td>0</td>\n",
       "    </tr>\n",
       "    <tr>\n",
       "      <th>2</th>\n",
       "      <td>2</td>\n",
       "      <td>1</td>\n",
       "      <td>3</td>\n",
       "      <td>female</td>\n",
       "      <td>0</td>\n",
       "      <td>0</td>\n",
       "      <td>7.9250</td>\n",
       "      <td>Southampton</td>\n",
       "      <td>1</td>\n",
       "    </tr>\n",
       "    <tr>\n",
       "      <th>3</th>\n",
       "      <td>3</td>\n",
       "      <td>1</td>\n",
       "      <td>1</td>\n",
       "      <td>female</td>\n",
       "      <td>1</td>\n",
       "      <td>0</td>\n",
       "      <td>53.1000</td>\n",
       "      <td>Southampton</td>\n",
       "      <td>0</td>\n",
       "    </tr>\n",
       "    <tr>\n",
       "      <th>4</th>\n",
       "      <td>4</td>\n",
       "      <td>0</td>\n",
       "      <td>3</td>\n",
       "      <td>male</td>\n",
       "      <td>0</td>\n",
       "      <td>0</td>\n",
       "      <td>8.0500</td>\n",
       "      <td>Southampton</td>\n",
       "      <td>1</td>\n",
       "    </tr>\n",
       "  </tbody>\n",
       "</table>\n",
       "</div>"
      ],
      "text/plain": [
       "   passenger_id  survived pclass     sex  sibsp  parch     fare  embark_town  \\\n",
       "0             0         0      3    male      1      0   7.2500  Southampton   \n",
       "1             1         1      1  female      1      0  71.2833    Cherbourg   \n",
       "2             2         1      3  female      0      0   7.9250  Southampton   \n",
       "3             3         1      1  female      1      0  53.1000  Southampton   \n",
       "4             4         0      3    male      0      0   8.0500  Southampton   \n",
       "\n",
       "   alone  \n",
       "0      0  \n",
       "1      0  \n",
       "2      1  \n",
       "3      0  \n",
       "4      1  "
      ]
     },
     "execution_count": 14,
     "metadata": {},
     "output_type": "execute_result"
    }
   ],
   "source": [
    "df.head()"
   ]
  },
  {
   "cell_type": "code",
   "execution_count": 16,
   "id": "0024c8e7-5c7c-4c09-b5c5-b9cf24d6dd27",
   "metadata": {},
   "outputs": [],
   "source": [
    "train, validate, test = prepare.splitting_data(df, 'survived')"
   ]
  },
  {
   "cell_type": "code",
   "execution_count": 17,
   "id": "96bbb797-22e6-4940-a75e-d3cbb5262b51",
   "metadata": {},
   "outputs": [
    {
     "data": {
      "text/plain": [
       "(534, 9)"
      ]
     },
     "execution_count": 17,
     "metadata": {},
     "output_type": "execute_result"
    }
   ],
   "source": [
    "train.shape"
   ]
  },
  {
   "cell_type": "code",
   "execution_count": 18,
   "id": "adf033f2-20cf-4431-8248-1df2e4dd9b50",
   "metadata": {},
   "outputs": [
    {
     "data": {
      "text/plain": [
       "(178, 9)"
      ]
     },
     "execution_count": 18,
     "metadata": {},
     "output_type": "execute_result"
    }
   ],
   "source": [
    "validate.shape"
   ]
  },
  {
   "cell_type": "code",
   "execution_count": 19,
   "id": "bb417458-0404-4802-8766-f3c90a6215e7",
   "metadata": {},
   "outputs": [
    {
     "data": {
      "text/plain": [
       "(179, 9)"
      ]
     },
     "execution_count": 19,
     "metadata": {},
     "output_type": "execute_result"
    }
   ],
   "source": [
    "test.shape"
   ]
  },
  {
   "cell_type": "code",
   "execution_count": 20,
   "id": "8670eb2c-8e0b-4352-ae91-f61e88646201",
   "metadata": {},
   "outputs": [
    {
     "data": {
      "text/html": [
       "<div>\n",
       "<style scoped>\n",
       "    .dataframe tbody tr th:only-of-type {\n",
       "        vertical-align: middle;\n",
       "    }\n",
       "\n",
       "    .dataframe tbody tr th {\n",
       "        vertical-align: top;\n",
       "    }\n",
       "\n",
       "    .dataframe thead th {\n",
       "        text-align: right;\n",
       "    }\n",
       "</style>\n",
       "<table border=\"1\" class=\"dataframe\">\n",
       "  <thead>\n",
       "    <tr style=\"text-align: right;\">\n",
       "      <th></th>\n",
       "      <th>passenger_id</th>\n",
       "      <th>survived</th>\n",
       "      <th>pclass</th>\n",
       "      <th>sex</th>\n",
       "      <th>sibsp</th>\n",
       "      <th>parch</th>\n",
       "      <th>fare</th>\n",
       "      <th>embark_town</th>\n",
       "      <th>alone</th>\n",
       "    </tr>\n",
       "  </thead>\n",
       "  <tbody>\n",
       "    <tr>\n",
       "      <th>776</th>\n",
       "      <td>776</td>\n",
       "      <td>0</td>\n",
       "      <td>3</td>\n",
       "      <td>male</td>\n",
       "      <td>0</td>\n",
       "      <td>0</td>\n",
       "      <td>7.7500</td>\n",
       "      <td>Queenstown</td>\n",
       "      <td>1</td>\n",
       "    </tr>\n",
       "    <tr>\n",
       "      <th>829</th>\n",
       "      <td>829</td>\n",
       "      <td>1</td>\n",
       "      <td>1</td>\n",
       "      <td>female</td>\n",
       "      <td>0</td>\n",
       "      <td>0</td>\n",
       "      <td>80.0000</td>\n",
       "      <td>Southampton</td>\n",
       "      <td>1</td>\n",
       "    </tr>\n",
       "    <tr>\n",
       "      <th>215</th>\n",
       "      <td>215</td>\n",
       "      <td>1</td>\n",
       "      <td>1</td>\n",
       "      <td>female</td>\n",
       "      <td>1</td>\n",
       "      <td>0</td>\n",
       "      <td>113.2750</td>\n",
       "      <td>Cherbourg</td>\n",
       "      <td>0</td>\n",
       "    </tr>\n",
       "    <tr>\n",
       "      <th>258</th>\n",
       "      <td>258</td>\n",
       "      <td>1</td>\n",
       "      <td>1</td>\n",
       "      <td>female</td>\n",
       "      <td>0</td>\n",
       "      <td>0</td>\n",
       "      <td>512.3292</td>\n",
       "      <td>Cherbourg</td>\n",
       "      <td>1</td>\n",
       "    </tr>\n",
       "    <tr>\n",
       "      <th>129</th>\n",
       "      <td>129</td>\n",
       "      <td>0</td>\n",
       "      <td>3</td>\n",
       "      <td>male</td>\n",
       "      <td>0</td>\n",
       "      <td>0</td>\n",
       "      <td>6.9750</td>\n",
       "      <td>Southampton</td>\n",
       "      <td>1</td>\n",
       "    </tr>\n",
       "  </tbody>\n",
       "</table>\n",
       "</div>"
      ],
      "text/plain": [
       "     passenger_id  survived pclass     sex  sibsp  parch      fare  \\\n",
       "776           776         0      3    male      0      0    7.7500   \n",
       "829           829         1      1  female      0      0   80.0000   \n",
       "215           215         1      1  female      1      0  113.2750   \n",
       "258           258         1      1  female      0      0  512.3292   \n",
       "129           129         0      3    male      0      0    6.9750   \n",
       "\n",
       "     embark_town  alone  \n",
       "776   Queenstown      1  \n",
       "829  Southampton      1  \n",
       "215    Cherbourg      0  \n",
       "258    Cherbourg      1  \n",
       "129  Southampton      1  "
      ]
     },
     "execution_count": 20,
     "metadata": {},
     "output_type": "execute_result"
    }
   ],
   "source": [
    "train.head()"
   ]
  },
  {
   "cell_type": "markdown",
   "id": "f43edfd4-309b-46d2-b145-25d42e6a5574",
   "metadata": {},
   "source": [
    "## Explore"
   ]
  },
  {
   "cell_type": "markdown",
   "id": "936c7bff-7242-4e17-9452-d03e75aaa8f6",
   "metadata": {},
   "source": [
    "<div class=\"alert alert-block alert-info\">\n",
    "    <h1>ONLY USE TRAIN DATASET WHEN YOU GET TO EXPLORE</h1>    \n",
    " \n",
    "- we will no longer use the df dataset\n",
    "- we will save the validate and test dataset for modeling\n",
    "    \n",
    "</div>"
   ]
  },
  {
   "cell_type": "markdown",
   "id": "9ea3db65-efa8-4c91-b683-13121634a55f",
   "metadata": {},
   "source": [
    "### Bivariate Stats"
   ]
  },
  {
   "cell_type": "markdown",
   "id": "7843f0cf-6ce4-40c5-9d6d-e7bdb9d5485b",
   "metadata": {},
   "source": [
    "follow the process\n",
    "    \n",
    "1. Hypothesize\n",
    "2. Visualize \n",
    "3. Analyze (with stats)\n",
    "4. Summarize"
   ]
  },
  {
   "cell_type": "code",
   "execution_count": 21,
   "id": "f6f1bef6-6277-4e93-aa2f-a6997e86db4e",
   "metadata": {},
   "outputs": [
    {
     "data": {
      "text/html": [
       "<div>\n",
       "<style scoped>\n",
       "    .dataframe tbody tr th:only-of-type {\n",
       "        vertical-align: middle;\n",
       "    }\n",
       "\n",
       "    .dataframe tbody tr th {\n",
       "        vertical-align: top;\n",
       "    }\n",
       "\n",
       "    .dataframe thead th {\n",
       "        text-align: right;\n",
       "    }\n",
       "</style>\n",
       "<table border=\"1\" class=\"dataframe\">\n",
       "  <thead>\n",
       "    <tr style=\"text-align: right;\">\n",
       "      <th></th>\n",
       "      <th>passenger_id</th>\n",
       "      <th>survived</th>\n",
       "      <th>pclass</th>\n",
       "      <th>sex</th>\n",
       "      <th>sibsp</th>\n",
       "      <th>parch</th>\n",
       "      <th>fare</th>\n",
       "      <th>embark_town</th>\n",
       "      <th>alone</th>\n",
       "    </tr>\n",
       "  </thead>\n",
       "  <tbody>\n",
       "    <tr>\n",
       "      <th>776</th>\n",
       "      <td>776</td>\n",
       "      <td>0</td>\n",
       "      <td>3</td>\n",
       "      <td>male</td>\n",
       "      <td>0</td>\n",
       "      <td>0</td>\n",
       "      <td>7.7500</td>\n",
       "      <td>Queenstown</td>\n",
       "      <td>1</td>\n",
       "    </tr>\n",
       "    <tr>\n",
       "      <th>829</th>\n",
       "      <td>829</td>\n",
       "      <td>1</td>\n",
       "      <td>1</td>\n",
       "      <td>female</td>\n",
       "      <td>0</td>\n",
       "      <td>0</td>\n",
       "      <td>80.0000</td>\n",
       "      <td>Southampton</td>\n",
       "      <td>1</td>\n",
       "    </tr>\n",
       "    <tr>\n",
       "      <th>215</th>\n",
       "      <td>215</td>\n",
       "      <td>1</td>\n",
       "      <td>1</td>\n",
       "      <td>female</td>\n",
       "      <td>1</td>\n",
       "      <td>0</td>\n",
       "      <td>113.2750</td>\n",
       "      <td>Cherbourg</td>\n",
       "      <td>0</td>\n",
       "    </tr>\n",
       "    <tr>\n",
       "      <th>258</th>\n",
       "      <td>258</td>\n",
       "      <td>1</td>\n",
       "      <td>1</td>\n",
       "      <td>female</td>\n",
       "      <td>0</td>\n",
       "      <td>0</td>\n",
       "      <td>512.3292</td>\n",
       "      <td>Cherbourg</td>\n",
       "      <td>1</td>\n",
       "    </tr>\n",
       "    <tr>\n",
       "      <th>129</th>\n",
       "      <td>129</td>\n",
       "      <td>0</td>\n",
       "      <td>3</td>\n",
       "      <td>male</td>\n",
       "      <td>0</td>\n",
       "      <td>0</td>\n",
       "      <td>6.9750</td>\n",
       "      <td>Southampton</td>\n",
       "      <td>1</td>\n",
       "    </tr>\n",
       "  </tbody>\n",
       "</table>\n",
       "</div>"
      ],
      "text/plain": [
       "     passenger_id  survived pclass     sex  sibsp  parch      fare  \\\n",
       "776           776         0      3    male      0      0    7.7500   \n",
       "829           829         1      1  female      0      0   80.0000   \n",
       "215           215         1      1  female      1      0  113.2750   \n",
       "258           258         1      1  female      0      0  512.3292   \n",
       "129           129         0      3    male      0      0    6.9750   \n",
       "\n",
       "     embark_town  alone  \n",
       "776   Queenstown      1  \n",
       "829  Southampton      1  \n",
       "215    Cherbourg      0  \n",
       "258    Cherbourg      1  \n",
       "129  Southampton      1  "
      ]
     },
     "execution_count": 21,
     "metadata": {},
     "output_type": "execute_result"
    }
   ],
   "source": [
    "#only use train\n",
    "train.head()"
   ]
  },
  {
   "cell_type": "markdown",
   "id": "744cb4ed-6841-4162-aabe-dadcc29d14ce",
   "metadata": {},
   "source": [
    "#### 1. Hypothesize"
   ]
  },
  {
   "cell_type": "markdown",
   "id": "ebe3a3f9-73b5-4438-8de4-36a7d97792a0",
   "metadata": {},
   "source": [
    "Q: Does the passenger class affect whether or not someone survived? "
   ]
  },
  {
   "cell_type": "code",
   "execution_count": 22,
   "id": "71823326-e1be-4240-8a23-0dcc480e7a6d",
   "metadata": {},
   "outputs": [
    {
     "data": {
      "text/plain": [
       "3    491\n",
       "1    216\n",
       "2    184\n",
       "Name: pclass, dtype: int64"
      ]
     },
     "execution_count": 22,
     "metadata": {},
     "output_type": "execute_result"
    }
   ],
   "source": [
    "df.pclass.value_counts()"
   ]
  },
  {
   "cell_type": "code",
   "execution_count": 23,
   "id": "5a3c3403-236c-4019-b1f1-4efa419549d9",
   "metadata": {},
   "outputs": [
    {
     "data": {
      "text/plain": [
       "0    549\n",
       "1    342\n",
       "Name: survived, dtype: int64"
      ]
     },
     "execution_count": 23,
     "metadata": {},
     "output_type": "execute_result"
    }
   ],
   "source": [
    "df.survived.value_counts()"
   ]
  },
  {
   "cell_type": "markdown",
   "id": "6c9cab11-e437-47c1-8bcb-6d8b616f0813",
   "metadata": {},
   "source": [
    "#### 2. Visualize\n"
   ]
  },
  {
   "cell_type": "code",
   "execution_count": 26,
   "id": "d00c4192-7ed7-4626-bcf2-77e12a8007c5",
   "metadata": {},
   "outputs": [
    {
     "data": {
      "image/png": "[encoded data removed]",
      "text/plain": [
       "<Figure size 640x480 with 1 Axes>"
      ]
     },
     "metadata": {},
     "output_type": "display_data"
    }
   ],
   "source": [
    "sns.barplot(data=train, y='survived', x='pclass');"
   ]
  },
  {
   "cell_type": "markdown",
   "id": "6b19093a-2db7-48af-be6a-ce6c2de915e8",
   "metadata": {},
   "source": [
    "> We can see that people in higher classes have a higher survival rate. "
   ]
  },
  {
   "cell_type": "markdown",
   "id": "8c2e5671-1927-49f6-b3e6-f0eb273ff4c0",
   "metadata": {},
   "source": [
    "#### 3. Analyze (with stats)"
   ]
  },
  {
   "cell_type": "code",
   "execution_count": 31,
   "id": "2b875f4d-fa8c-4186-9825-6db8baddbba3",
   "metadata": {},
   "outputs": [
    {
     "data": {
      "text/plain": [
       "0    329\n",
       "1    205\n",
       "Name: survived, dtype: int64"
      ]
     },
     "execution_count": 31,
     "metadata": {},
     "output_type": "execute_result"
    }
   ],
   "source": [
    "train.survived.value_counts()"
   ]
  },
  {
   "cell_type": "code",
   "execution_count": 32,
   "id": "b9e16fba-d446-4bde-b26a-bc73f7041fe6",
   "metadata": {},
   "outputs": [
    {
     "data": {
      "text/plain": [
       "3    304\n",
       "1    120\n",
       "2    110\n",
       "Name: pclass, dtype: int64"
      ]
     },
     "execution_count": 32,
     "metadata": {},
     "output_type": "execute_result"
    }
   ],
   "source": [
    "train.pclass.value_counts()"
   ]
  },
  {
   "cell_type": "markdown",
   "id": "21e92a52-eb54-49e0-9c28-18b3ca1266a9",
   "metadata": {},
   "source": [
    "$H_o$: There is NO relationship between pclass and survived\n",
    "\n",
    "$H_a$: There IS relationship between pclass and survived\n",
    "\n",
    "alpha = 0.05"
   ]
  },
  {
   "cell_type": "code",
   "execution_count": 34,
   "id": "d841985b-3c6a-445c-b7df-165930bda422",
   "metadata": {},
   "outputs": [
    {
     "data": {
      "text/html": [
       "<div>\n",
       "<style scoped>\n",
       "    .dataframe tbody tr th:only-of-type {\n",
       "        vertical-align: middle;\n",
       "    }\n",
       "\n",
       "    .dataframe tbody tr th {\n",
       "        vertical-align: top;\n",
       "    }\n",
       "\n",
       "    .dataframe thead th {\n",
       "        text-align: right;\n",
       "    }\n",
       "</style>\n",
       "<table border=\"1\" class=\"dataframe\">\n",
       "  <thead>\n",
       "    <tr style=\"text-align: right;\">\n",
       "      <th>pclass</th>\n",
       "      <th>1</th>\n",
       "      <th>2</th>\n",
       "      <th>3</th>\n",
       "    </tr>\n",
       "    <tr>\n",
       "      <th>survived</th>\n",
       "      <th></th>\n",
       "      <th></th>\n",
       "      <th></th>\n",
       "    </tr>\n",
       "  </thead>\n",
       "  <tbody>\n",
       "    <tr>\n",
       "      <th>0</th>\n",
       "      <td>45</td>\n",
       "      <td>52</td>\n",
       "      <td>232</td>\n",
       "    </tr>\n",
       "    <tr>\n",
       "      <th>1</th>\n",
       "      <td>75</td>\n",
       "      <td>58</td>\n",
       "      <td>72</td>\n",
       "    </tr>\n",
       "  </tbody>\n",
       "</table>\n",
       "</div>"
      ],
      "text/plain": [
       "pclass     1   2    3\n",
       "survived             \n",
       "0         45  52  232\n",
       "1         75  58   72"
      ]
     },
     "execution_count": 34,
     "metadata": {},
     "output_type": "execute_result"
    }
   ],
   "source": [
    "observed = pd.crosstab(train.survived, train.pclass)\n",
    "observed"
   ]
  },
  {
   "cell_type": "code",
   "execution_count": 36,
   "id": "2cd2d534-e27b-49ba-8990-6ed65c6fcb08",
   "metadata": {},
   "outputs": [],
   "source": [
    "#chi2 returns 4 variables\n",
    "chi2, p, dof, expected = stats.chi2_contingency(observed)"
   ]
  },
  {
   "cell_type": "code",
   "execution_count": 37,
   "id": "d7d458b6-4e02-483b-a127-1bf5036e92e7",
   "metadata": {},
   "outputs": [
    {
     "data": {
      "text/plain": [
       "3.048359848441437e-15"
      ]
     },
     "execution_count": 37,
     "metadata": {},
     "output_type": "execute_result"
    }
   ],
   "source": [
    "p"
   ]
  },
  {
   "cell_type": "markdown",
   "id": "42069b7a-bdaf-42ef-bf55-985a38a43489",
   "metadata": {},
   "source": [
    "My p-value is less than alpha, therefore, we reject the null hypothesis. \n",
    "\n",
    "we can conclude that there is a relationship between pclass and survived. "
   ]
  },
  {
   "cell_type": "markdown",
   "id": "236cf1b6-2049-4546-a3a7-bdb17c430dfb",
   "metadata": {},
   "source": [
    "#### 4. Summarize"
   ]
  },
  {
   "cell_type": "markdown",
   "id": "b833768a-817a-470f-afc0-2ac33c494aab",
   "metadata": {},
   "source": [
    "We confirmed there is a relationship between pclass and survived, and that as people have a higher class, they are more likely to survived. "
   ]
  },
  {
   "cell_type": "markdown",
   "id": "9573c2a7-5532-4478-a153-83d2cc88ee22",
   "metadata": {},
   "source": [
    "### Repeat"
   ]
  },
  {
   "cell_type": "code",
   "execution_count": 39,
   "id": "7b2a453e-ed33-4f37-bab6-ec90a9113c2d",
   "metadata": {},
   "outputs": [
    {
     "data": {
      "text/html": [
       "<div>\n",
       "<style scoped>\n",
       "    .dataframe tbody tr th:only-of-type {\n",
       "        vertical-align: middle;\n",
       "    }\n",
       "\n",
       "    .dataframe tbody tr th {\n",
       "        vertical-align: top;\n",
       "    }\n",
       "\n",
       "    .dataframe thead th {\n",
       "        text-align: right;\n",
       "    }\n",
       "</style>\n",
       "<table border=\"1\" class=\"dataframe\">\n",
       "  <thead>\n",
       "    <tr style=\"text-align: right;\">\n",
       "      <th></th>\n",
       "      <th>passenger_id</th>\n",
       "      <th>survived</th>\n",
       "      <th>pclass</th>\n",
       "      <th>sex</th>\n",
       "      <th>sibsp</th>\n",
       "      <th>parch</th>\n",
       "      <th>fare</th>\n",
       "      <th>embark_town</th>\n",
       "      <th>alone</th>\n",
       "    </tr>\n",
       "  </thead>\n",
       "  <tbody>\n",
       "    <tr>\n",
       "      <th>776</th>\n",
       "      <td>776</td>\n",
       "      <td>0</td>\n",
       "      <td>3</td>\n",
       "      <td>male</td>\n",
       "      <td>0</td>\n",
       "      <td>0</td>\n",
       "      <td>7.7500</td>\n",
       "      <td>Queenstown</td>\n",
       "      <td>1</td>\n",
       "    </tr>\n",
       "    <tr>\n",
       "      <th>829</th>\n",
       "      <td>829</td>\n",
       "      <td>1</td>\n",
       "      <td>1</td>\n",
       "      <td>female</td>\n",
       "      <td>0</td>\n",
       "      <td>0</td>\n",
       "      <td>80.0000</td>\n",
       "      <td>Southampton</td>\n",
       "      <td>1</td>\n",
       "    </tr>\n",
       "    <tr>\n",
       "      <th>215</th>\n",
       "      <td>215</td>\n",
       "      <td>1</td>\n",
       "      <td>1</td>\n",
       "      <td>female</td>\n",
       "      <td>1</td>\n",
       "      <td>0</td>\n",
       "      <td>113.2750</td>\n",
       "      <td>Cherbourg</td>\n",
       "      <td>0</td>\n",
       "    </tr>\n",
       "    <tr>\n",
       "      <th>258</th>\n",
       "      <td>258</td>\n",
       "      <td>1</td>\n",
       "      <td>1</td>\n",
       "      <td>female</td>\n",
       "      <td>0</td>\n",
       "      <td>0</td>\n",
       "      <td>512.3292</td>\n",
       "      <td>Cherbourg</td>\n",
       "      <td>1</td>\n",
       "    </tr>\n",
       "    <tr>\n",
       "      <th>129</th>\n",
       "      <td>129</td>\n",
       "      <td>0</td>\n",
       "      <td>3</td>\n",
       "      <td>male</td>\n",
       "      <td>0</td>\n",
       "      <td>0</td>\n",
       "      <td>6.9750</td>\n",
       "      <td>Southampton</td>\n",
       "      <td>1</td>\n",
       "    </tr>\n",
       "  </tbody>\n",
       "</table>\n",
       "</div>"
      ],
      "text/plain": [
       "     passenger_id  survived pclass     sex  sibsp  parch      fare  \\\n",
       "776           776         0      3    male      0      0    7.7500   \n",
       "829           829         1      1  female      0      0   80.0000   \n",
       "215           215         1      1  female      1      0  113.2750   \n",
       "258           258         1      1  female      0      0  512.3292   \n",
       "129           129         0      3    male      0      0    6.9750   \n",
       "\n",
       "     embark_town  alone  \n",
       "776   Queenstown      1  \n",
       "829  Southampton      1  \n",
       "215    Cherbourg      0  \n",
       "258    Cherbourg      1  \n",
       "129  Southampton      1  "
      ]
     },
     "execution_count": 39,
     "metadata": {},
     "output_type": "execute_result"
    }
   ],
   "source": [
    "train.head()"
   ]
  },
  {
   "cell_type": "markdown",
   "id": "4a041b23-6632-4b34-a190-b9669a634d93",
   "metadata": {},
   "source": [
    "#### 1. Hypothesize"
   ]
  },
  {
   "cell_type": "markdown",
   "id": "f315f381-35d2-4cc2-b0dd-cbb49c919f0c",
   "metadata": {},
   "source": [
    "Q: does fare incidate whether or not someone survived? "
   ]
  },
  {
   "cell_type": "markdown",
   "id": "ca99fe2c-ffe6-41ea-8e04-9ab6712750b1",
   "metadata": {},
   "source": [
    "what type of variables am i comparing?\n",
    "- survived is categorical\n",
    "- fare is continuous"
   ]
  },
  {
   "cell_type": "markdown",
   "id": "4e210256-275a-4d1a-9cd3-05c4f85320b2",
   "metadata": {},
   "source": [
    "#### 2. Visualize"
   ]
  },
  {
   "cell_type": "markdown",
   "id": "663f8bd4-a727-4fc3-9573-530bf83e2294",
   "metadata": {},
   "source": [
    "what kind of plot can i use? \n",
    "- box plot\n",
    "- violin plot\n",
    "- swarmplot\n",
    "- strip plot"
   ]
  },
  {
   "cell_type": "code",
   "execution_count": 42,
   "id": "537814d2-531f-4c0a-a097-48ff2d4d0967",
   "metadata": {},
   "outputs": [
    {
     "data": {
      "image/png": "[encoded data removed]",
      "text/plain": [
       "<Figure size 640x480 with 1 Axes>"
      ]
     },
     "metadata": {},
     "output_type": "display_data"
    }
   ],
   "source": [
    "sns.boxplot(data=train, x='survived', y='fare')\n",
    "plt.show()"
   ]
  },
  {
   "cell_type": "markdown",
   "id": "6749b193-303a-42f7-b655-15a9544fdf40",
   "metadata": {},
   "source": [
    "> it does look like people who paid more money for their ticket, were more likely to survive"
   ]
  },
  {
   "cell_type": "markdown",
   "id": "0de21669-29d3-49ea-b294-e7ca274cac54",
   "metadata": {},
   "source": [
    "#### 3. Analyze (with statistics)"
   ]
  },
  {
   "cell_type": "markdown",
   "id": "620c2db1-bb25-4e73-b560-bdc9cb965f03",
   "metadata": {},
   "source": [
    "what type of test should i use for this?\n",
    "\n",
    "- comparing means\n",
    "- if we assume normality, do a ttest\n",
    "- since we are comparing two subgroups (survived to nonsurvived), 2-sample ttest\n",
    "- since we are checking for any difference, 2-tail"
   ]
  },
  {
   "cell_type": "markdown",
   "id": "9f830fb0-a21d-465c-8fee-2ba425c4c468",
   "metadata": {},
   "source": [
    "$H_0$: there is no relationship between survived and fare\n",
    "\n",
    "$H_a$: there is a relationship between survived and fare\n",
    "\n",
    "alpha = 0.05"
   ]
  },
  {
   "cell_type": "code",
   "execution_count": 52,
   "id": "f09ea76a-d37b-4b2d-b848-65fc36052781",
   "metadata": {},
   "outputs": [],
   "source": [
    "#make two arrays of peoples fare\n",
    "\n",
    "#all the fares for people that survived\n",
    "survived = train [train.survived == 1].fare\n",
    "\n",
    "#all the fares for people that didnt survive\n",
    "perished = train [train.survived == 0].fare"
   ]
  },
  {
   "cell_type": "markdown",
   "id": "8c4ed6dd-9acc-4381-94c7-da2044f65184",
   "metadata": {},
   "source": [
    "> We need to verify normality and check for equal variances!! "
   ]
  },
  {
   "cell_type": "code",
   "execution_count": 54,
   "id": "437fdd00-207f-417a-8b11-892a611ba40a",
   "metadata": {},
   "outputs": [
    {
     "data": {
      "text/plain": [
       "829     80.0000\n",
       "215    113.2750\n",
       "258    512.3292\n",
       "710     49.5042\n",
       "506     26.0000\n",
       "Name: fare, dtype: float64"
      ]
     },
     "execution_count": 54,
     "metadata": {},
     "output_type": "execute_result"
    }
   ],
   "source": [
    "survived.head()"
   ]
  },
  {
   "cell_type": "code",
   "execution_count": 56,
   "id": "24ef147b-facf-499b-a2d9-bb18f1a721e6",
   "metadata": {},
   "outputs": [],
   "source": [
    "t, pval = stats.ttest_ind(survived, perished)"
   ]
  },
  {
   "cell_type": "code",
   "execution_count": 57,
   "id": "f6a30d6d-e3da-44f1-9af6-59a6b48e23cf",
   "metadata": {},
   "outputs": [
    {
     "data": {
      "text/plain": [
       "2.59647296963686e-07"
      ]
     },
     "execution_count": 57,
     "metadata": {},
     "output_type": "execute_result"
    }
   ],
   "source": [
    "pval"
   ]
  },
  {
   "cell_type": "markdown",
   "id": "aa792958-3c33-4b53-9e95-7bb726db6eb0",
   "metadata": {},
   "source": [
    "Our pvalue is less than alpha, therefore, we reject the null hypothesis. \n",
    "\n",
    "There is a relationship between fare and survived."
   ]
  },
  {
   "cell_type": "markdown",
   "id": "a215191d-f8cf-417b-8be0-d4c71662d6da",
   "metadata": {},
   "source": [
    "#### 4. Summarize"
   ]
  },
  {
   "cell_type": "markdown",
   "id": "94cabba2-5e44-4ba1-b92c-00c20abbfba6",
   "metadata": {},
   "source": [
    "When people paid more for their fare, they had higher chances of survival."
   ]
  },
  {
   "cell_type": "code",
   "execution_count": 59,
   "id": "25f0d300-2ac9-4a20-b7c2-8aa0cbff3b75",
   "metadata": {},
   "outputs": [
    {
     "data": {
      "text/html": [
       "<div>\n",
       "<style scoped>\n",
       "    .dataframe tbody tr th:only-of-type {\n",
       "        vertical-align: middle;\n",
       "    }\n",
       "\n",
       "    .dataframe tbody tr th {\n",
       "        vertical-align: top;\n",
       "    }\n",
       "\n",
       "    .dataframe thead th {\n",
       "        text-align: right;\n",
       "    }\n",
       "</style>\n",
       "<table border=\"1\" class=\"dataframe\">\n",
       "  <thead>\n",
       "    <tr style=\"text-align: right;\">\n",
       "      <th></th>\n",
       "      <th>passenger_id</th>\n",
       "      <th>survived</th>\n",
       "      <th>pclass</th>\n",
       "      <th>sex</th>\n",
       "      <th>sibsp</th>\n",
       "      <th>parch</th>\n",
       "      <th>fare</th>\n",
       "      <th>embark_town</th>\n",
       "      <th>alone</th>\n",
       "    </tr>\n",
       "  </thead>\n",
       "  <tbody>\n",
       "    <tr>\n",
       "      <th>776</th>\n",
       "      <td>776</td>\n",
       "      <td>0</td>\n",
       "      <td>3</td>\n",
       "      <td>male</td>\n",
       "      <td>0</td>\n",
       "      <td>0</td>\n",
       "      <td>7.7500</td>\n",
       "      <td>Queenstown</td>\n",
       "      <td>1</td>\n",
       "    </tr>\n",
       "    <tr>\n",
       "      <th>829</th>\n",
       "      <td>829</td>\n",
       "      <td>1</td>\n",
       "      <td>1</td>\n",
       "      <td>female</td>\n",
       "      <td>0</td>\n",
       "      <td>0</td>\n",
       "      <td>80.0000</td>\n",
       "      <td>Southampton</td>\n",
       "      <td>1</td>\n",
       "    </tr>\n",
       "    <tr>\n",
       "      <th>215</th>\n",
       "      <td>215</td>\n",
       "      <td>1</td>\n",
       "      <td>1</td>\n",
       "      <td>female</td>\n",
       "      <td>1</td>\n",
       "      <td>0</td>\n",
       "      <td>113.2750</td>\n",
       "      <td>Cherbourg</td>\n",
       "      <td>0</td>\n",
       "    </tr>\n",
       "    <tr>\n",
       "      <th>258</th>\n",
       "      <td>258</td>\n",
       "      <td>1</td>\n",
       "      <td>1</td>\n",
       "      <td>female</td>\n",
       "      <td>0</td>\n",
       "      <td>0</td>\n",
       "      <td>512.3292</td>\n",
       "      <td>Cherbourg</td>\n",
       "      <td>1</td>\n",
       "    </tr>\n",
       "    <tr>\n",
       "      <th>129</th>\n",
       "      <td>129</td>\n",
       "      <td>0</td>\n",
       "      <td>3</td>\n",
       "      <td>male</td>\n",
       "      <td>0</td>\n",
       "      <td>0</td>\n",
       "      <td>6.9750</td>\n",
       "      <td>Southampton</td>\n",
       "      <td>1</td>\n",
       "    </tr>\n",
       "  </tbody>\n",
       "</table>\n",
       "</div>"
      ],
      "text/plain": [
       "     passenger_id  survived pclass     sex  sibsp  parch      fare  \\\n",
       "776           776         0      3    male      0      0    7.7500   \n",
       "829           829         1      1  female      0      0   80.0000   \n",
       "215           215         1      1  female      1      0  113.2750   \n",
       "258           258         1      1  female      0      0  512.3292   \n",
       "129           129         0      3    male      0      0    6.9750   \n",
       "\n",
       "     embark_town  alone  \n",
       "776   Queenstown      1  \n",
       "829  Southampton      1  \n",
       "215    Cherbourg      0  \n",
       "258    Cherbourg      1  \n",
       "129  Southampton      1  "
      ]
     },
     "execution_count": 59,
     "metadata": {},
     "output_type": "execute_result"
    }
   ],
   "source": [
    "train.head()"
   ]
  },
  {
   "cell_type": "markdown",
   "id": "9e4788b5-c0d9-41de-afc7-16639cad47fd",
   "metadata": {},
   "source": [
    "### Multivariate Stats\n",
    "-USE TRAIN DATASET ONLY-\n",
    "\n",
    "- can ask more targeted questions, like subgroup vs subgroup vs category\n",
    "- multivariate statistical tests exist, but are outside the scope of this course.\n",
    "\n",
    "1. Hypothesize\n",
    "2. Visualize\n",
    "3. ~Analyze (with statistics)~\n",
    "4. Summarize\n"
   ]
  },
  {
   "cell_type": "code",
   "execution_count": 60,
   "id": "210a9655-4d39-4b85-b528-500f91249461",
   "metadata": {},
   "outputs": [
    {
     "data": {
      "text/html": [
       "<div>\n",
       "<style scoped>\n",
       "    .dataframe tbody tr th:only-of-type {\n",
       "        vertical-align: middle;\n",
       "    }\n",
       "\n",
       "    .dataframe tbody tr th {\n",
       "        vertical-align: top;\n",
       "    }\n",
       "\n",
       "    .dataframe thead th {\n",
       "        text-align: right;\n",
       "    }\n",
       "</style>\n",
       "<table border=\"1\" class=\"dataframe\">\n",
       "  <thead>\n",
       "    <tr style=\"text-align: right;\">\n",
       "      <th></th>\n",
       "      <th>passenger_id</th>\n",
       "      <th>survived</th>\n",
       "      <th>pclass</th>\n",
       "      <th>sex</th>\n",
       "      <th>sibsp</th>\n",
       "      <th>parch</th>\n",
       "      <th>fare</th>\n",
       "      <th>embark_town</th>\n",
       "      <th>alone</th>\n",
       "    </tr>\n",
       "  </thead>\n",
       "  <tbody>\n",
       "    <tr>\n",
       "      <th>776</th>\n",
       "      <td>776</td>\n",
       "      <td>0</td>\n",
       "      <td>3</td>\n",
       "      <td>male</td>\n",
       "      <td>0</td>\n",
       "      <td>0</td>\n",
       "      <td>7.7500</td>\n",
       "      <td>Queenstown</td>\n",
       "      <td>1</td>\n",
       "    </tr>\n",
       "    <tr>\n",
       "      <th>829</th>\n",
       "      <td>829</td>\n",
       "      <td>1</td>\n",
       "      <td>1</td>\n",
       "      <td>female</td>\n",
       "      <td>0</td>\n",
       "      <td>0</td>\n",
       "      <td>80.0000</td>\n",
       "      <td>Southampton</td>\n",
       "      <td>1</td>\n",
       "    </tr>\n",
       "    <tr>\n",
       "      <th>215</th>\n",
       "      <td>215</td>\n",
       "      <td>1</td>\n",
       "      <td>1</td>\n",
       "      <td>female</td>\n",
       "      <td>1</td>\n",
       "      <td>0</td>\n",
       "      <td>113.2750</td>\n",
       "      <td>Cherbourg</td>\n",
       "      <td>0</td>\n",
       "    </tr>\n",
       "    <tr>\n",
       "      <th>258</th>\n",
       "      <td>258</td>\n",
       "      <td>1</td>\n",
       "      <td>1</td>\n",
       "      <td>female</td>\n",
       "      <td>0</td>\n",
       "      <td>0</td>\n",
       "      <td>512.3292</td>\n",
       "      <td>Cherbourg</td>\n",
       "      <td>1</td>\n",
       "    </tr>\n",
       "    <tr>\n",
       "      <th>129</th>\n",
       "      <td>129</td>\n",
       "      <td>0</td>\n",
       "      <td>3</td>\n",
       "      <td>male</td>\n",
       "      <td>0</td>\n",
       "      <td>0</td>\n",
       "      <td>6.9750</td>\n",
       "      <td>Southampton</td>\n",
       "      <td>1</td>\n",
       "    </tr>\n",
       "  </tbody>\n",
       "</table>\n",
       "</div>"
      ],
      "text/plain": [
       "     passenger_id  survived pclass     sex  sibsp  parch      fare  \\\n",
       "776           776         0      3    male      0      0    7.7500   \n",
       "829           829         1      1  female      0      0   80.0000   \n",
       "215           215         1      1  female      1      0  113.2750   \n",
       "258           258         1      1  female      0      0  512.3292   \n",
       "129           129         0      3    male      0      0    6.9750   \n",
       "\n",
       "     embark_town  alone  \n",
       "776   Queenstown      1  \n",
       "829  Southampton      1  \n",
       "215    Cherbourg      0  \n",
       "258    Cherbourg      1  \n",
       "129  Southampton      1  "
      ]
     },
     "execution_count": 60,
     "metadata": {},
     "output_type": "execute_result"
    }
   ],
   "source": [
    "train.head()"
   ]
  },
  {
   "cell_type": "markdown",
   "id": "58f03e8f-496c-490e-8752-53d59a339b8f",
   "metadata": {},
   "source": [
    "#### 1. Hypothesize"
   ]
  },
  {
   "cell_type": "markdown",
   "id": "ffa649a9-e6e5-450c-a078-c71cbf8aa610",
   "metadata": {},
   "source": [
    "Q: do males have a greater chance of survival when traveling alone?\n",
    "\n",
    "- sex, categorical variable\n",
    "- survived, categorical variable\n",
    "- alone, categorical variable"
   ]
  },
  {
   "cell_type": "markdown",
   "id": "041dbe52-0d99-456f-b54b-e8cf00e84814",
   "metadata": {},
   "source": [
    "#### 2. Visualize"
   ]
  },
  {
   "cell_type": "code",
   "execution_count": 62,
   "id": "74be3a02-b5b7-4d85-8736-e7c49982ce30",
   "metadata": {},
   "outputs": [
    {
     "data": {
      "image/png": "[encoded data removed]",
      "text/plain": [
       "<Figure size 640x480 with 1 Axes>"
      ]
     },
     "metadata": {},
     "output_type": "display_data"
    }
   ],
   "source": [
    "#just two variables\n",
    "sns.barplot(data=train, x='sex', y='survived');"
   ]
  },
  {
   "cell_type": "code",
   "execution_count": 63,
   "id": "5cb36279-d15e-4875-8c88-fabbb78ef7ae",
   "metadata": {},
   "outputs": [
    {
     "data": {
      "image/png": "[encoded data removed]",
      "text/plain": [
       "<Figure size 640x480 with 1 Axes>"
      ]
     },
     "metadata": {},
     "output_type": "display_data"
    }
   ],
   "source": [
    "#using hue to show the third variable\n",
    "sns.barplot(data=train, x='sex', y='survived', hue='alone');"
   ]
  },
  {
   "cell_type": "markdown",
   "id": "4fbabc0f-7367-4198-bb68-2d117bf4d192",
   "metadata": {},
   "source": [
    "#### 3. Summarize"
   ]
  },
  {
   "cell_type": "markdown",
   "id": "d1a8a70f-d99e-49ac-afce-1d0e5efa977a",
   "metadata": {},
   "source": [
    "Males overall had a lower chance of survival, compared to females. However, if the male was travleing alone, they have a lower survived rate than traveleing with someone."
   ]
  },
  {
   "cell_type": "markdown",
   "id": "18ffbeb6-fdf2-4f3e-ab07-38ef6bc94495",
   "metadata": {},
   "source": [
    "## Explore Conclusions\n",
    "note: this is a summary of all of our takeaways in the explore section"
   ]
  },
  {
   "cell_type": "markdown",
   "id": "3f9727ed-5c23-46bb-a3c6-de4dd0a25928",
   "metadata": {},
   "source": [
    "We saw there was a relationship between passenger class, fare, and gender and whether or not they survived. \n",
    "\n",
    "To increase someone's chances of surviving they needed a higher class, a higher fare, and needed to be female, or a male traveling with someone."
   ]
  },
  {
   "cell_type": "markdown",
   "id": "2f4f7bd1-f1ec-4ea0-bd1f-5f767ae830a0",
   "metadata": {},
   "source": [
    "### Final notes on exploring"
   ]
  },
  {
   "cell_type": "markdown",
   "id": "12007607-59c6-4bd9-a8c4-ba4059bcc7f7",
   "metadata": {},
   "source": [
    "How much time do you think it will take to explore all of your features and how they relate to your target variable? \n",
    "- a lot of time\n",
    "\n",
    "Therefore, you have to PRIORITIZE the features you want to compare\n",
    "- use your domain knowledge\n",
    "- you can also rotate your relationships with a for loop (at the beginning of explore)\n",
    "    - maybe look at a pairplot\n"
   ]
  },
  {
   "cell_type": "markdown",
   "id": "7b243a10-0744-419a-8004-0c0749b99d33",
   "metadata": {},
   "source": [
    "### With more time, reiterate\n",
    "As you have more time, you can reiterate and go back through and investigate more features. \n",
    "\n",
    "Recall how we dropped the age column completetly since 20% of the values were missing? \n",
    "- add back that column \n",
    "    - maybe drop all the rows with nulls instead\n",
    "    - maybe try to replace those null values with some other value, maybe by group?\n",
    "- investigate how age affects survival now"
   ]
  },
  {
   "cell_type": "markdown",
   "id": "4ea176c9-8dd0-4f1f-95c4-b1a1b867c8ec",
   "metadata": {},
   "source": [
    "### Make sure you're documenting takeaways throughout your exploration! "
   ]
  }
 ],
 "metadata": {
  "kernelspec": {
   "display_name": "Python 3 (ipykernel)",
   "language": "python",
   "name": "python3"
  },
  "language_info": {
   "codemirror_mode": {
    "name": "ipython",
    "version": 3
   },
   "file_extension": ".py",
   "mimetype": "text/x-python",
   "name": "python",
   "nbconvert_exporter": "python",
   "pygments_lexer": "ipython3",
   "version": "3.11.5"
  }
 },
 "nbformat": 4,
 "nbformat_minor": 5
}
