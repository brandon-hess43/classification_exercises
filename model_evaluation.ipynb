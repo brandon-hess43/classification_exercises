{
 "cells": [
  {
   "cell_type": "markdown",
   "id": "cf08581c-45b2-4edf-bbbb-acdd5991b0d9",
   "metadata": {},
   "source": [
    "### 2. Given the following confusion matrix, evaluate (by hand) the model's performance."
   ]
  },
  {
   "cell_type": "markdown",
   "id": "06c95e02-49fa-4362-98e6-31a7a0d658ea",
   "metadata": {},
   "source": [
    "|               | pred dog   | pred cat   |\n",
    "|:------------  |-----------:|-----------:|\n",
    "| actual dog    |         46 |         7  |\n",
    "| actual cat    |         13 |         34 |\n"
   ]
  },
  {
   "cell_type": "markdown",
   "id": "7d2d4f7d-82bb-4f6e-8ca0-444d34a72189",
   "metadata": {},
   "source": [
    "In the context of this problem, what is a false positive?\n"
   ]
  },
  {
   "cell_type": "markdown",
   "id": "c5b99d52-1a7c-4c1a-bb01-bd4823278540",
   "metadata": {},
   "source": [
    "- Predicted dog, actually cat"
   ]
  },
  {
   "cell_type": "markdown",
   "id": "7ee07df3-dc5a-42ca-875c-1789b0be804d",
   "metadata": {
    "tags": []
   },
   "source": [
    "In the context of this problem, what is a false negative?"
   ]
  },
  {
   "cell_type": "markdown",
   "id": "259b52fd-2f40-4593-ab1a-44bb90820bff",
   "metadata": {},
   "source": [
    "- Predicted cat, actually dog"
   ]
  },
  {
   "cell_type": "markdown",
   "id": "5afb08c7-0161-4ba5-8fc7-c671229da686",
   "metadata": {},
   "source": [
    "How would you describe this model?"
   ]
  },
  {
   "cell_type": "markdown",
   "id": "06430f8a-0747-487b-af82-f190022f643d",
   "metadata": {},
   "source": [
    "- not accurate?"
   ]
  },
  {
   "cell_type": "markdown",
   "id": "1c5d9564-ed8b-4a74-93fd-53948b1be205",
   "metadata": {},
   "source": [
    "### 3. You are working as a datascientist working for Codeup Cody Creator (C3 for short), a rubber-duck manufacturing plant."
   ]
  },
  {
   "cell_type": "markdown",
   "id": "6d149811-75c8-480e-a40f-e16c58562bc7",
   "metadata": {},
   "source": [
    "Unfortunately, some of the rubber ducks that are produced will have defects. Your team has built several models that try to predict those defects, and the data from their predictions can be found here. Use the predictions dataset and pandas to help answer the following questions:"
   ]
  },
  {
   "cell_type": "markdown",
   "id": "8293a3fe-140e-46de-a999-f1e84089c01d",
   "metadata": {},
   "source": [
    "An internal team wants to investigate the cause of the manufacturing defects. They tell you that they want to identify as many of the ducks that have a defect as possible. Which evaluation metric would be appropriate here? Which model would be the best fit for this use case?"
   ]
  },
  {
   "cell_type": "markdown",
   "id": "7a94295b-516f-4b5a-b0e4-8c86c4c0bc82",
   "metadata": {},
   "source": [
    "Recently several stories in the local news have come out highlighting customers who received a rubber duck with a defect, and portraying C3 in a bad light. The PR team has decided to launch a program that gives customers with a defective duck a vacation to Hawaii. They need you to predict which ducks will have defects, but tell you the really don't want to accidentally give out a vacation package when the duck really doesn't have a defect. Which evaluation metric would be appropriate here? Which model would be the best fit for this use case?"
   ]
  },
  {
   "cell_type": "markdown",
   "id": "fa4e5f29-9ff5-413b-a141-f7aebf7d1c67",
   "metadata": {},
   "source": []
  },
  {
   "cell_type": "markdown",
   "id": "d3254a29-518c-4eae-a1e1-999fb199b167",
   "metadata": {},
   "source": [
    "### 4. You are working as a data scientist for Gives You Paws ™, a subscription based service that shows you cute pictures of dogs or cats (or both for an additional fee)."
   ]
  },
  {
   "cell_type": "markdown",
   "id": "c8ffd7db-5c96-494a-a13e-1d2078105a4e",
   "metadata": {},
   "source": [
    "At Gives You Paws, anyone can upload pictures of their cats or dogs. The photos are then put through a two step process. First an automated algorithm tags pictures as either a cat or a dog (Phase I). Next, the photos that have been initially identified are put through another round of review, possibly with some human oversight, before being presented to the users (Phase II). Several models have already been developed with the data, and you can find their results here."
   ]
  },
  {
   "cell_type": "markdown",
   "id": "221fa9a6-ca0b-4a36-a384-16ae046ce655",
   "metadata": {},
   "source": [
    "Given this dataset, use pandas to create a baseline model (i.e. a model that just predicts the most common class) and answer the following questions:"
   ]
  },
  {
   "cell_type": "markdown",
   "id": "5aa0ac86-ad92-49a4-ae59-65fb9a2d0584",
   "metadata": {},
   "source": [
    "a) In terms of accuracy, how do the various models compare to the baseline model? Are any of the models better than the baseline?"
   ]
  },
  {
   "cell_type": "markdown",
   "id": "76818373-d462-40ce-b21d-e3026955661d",
   "metadata": {},
   "source": []
  },
  {
   "cell_type": "markdown",
   "id": "e189a005-e7cf-40ab-be39-5a32ce15dbb1",
   "metadata": {},
   "source": [
    "b) Suppose you are working on a team that solely deals with dog pictures. Which of these models would you recommend?"
   ]
  },
  {
   "cell_type": "markdown",
   "id": "2bc32dcc-6f64-44d0-bbbf-6c16d213c200",
   "metadata": {},
   "source": []
  },
  {
   "cell_type": "markdown",
   "id": "4e90121b-4619-4a7f-a7e6-51e586b3bc82",
   "metadata": {},
   "source": [
    "c) Suppose you are working on a team that solely deals with cat pictures. Which of these models would you recommend?"
   ]
  },
  {
   "cell_type": "markdown",
   "id": "f68dc451-8383-46b3-948a-a0fb12917234",
   "metadata": {},
   "source": []
  },
  {
   "cell_type": "markdown",
   "id": "0cb7751f-6aab-4b7a-a085-4ce7ed3867b6",
   "metadata": {},
   "source": [
    "### 5. Follow the links below to read the documentation about each function, then apply those functions to the data from the previous problem."
   ]
  },
  {
   "cell_type": "markdown",
   "id": "dc600282-452a-4df6-95af-441f6d647766",
   "metadata": {},
   "source": [
    "## From Lesson"
   ]
  },
  {
   "cell_type": "code",
   "execution_count": 64,
   "id": "b59654b7-f68f-4f95-a214-86e25bf91c2e",
   "metadata": {},
   "outputs": [],
   "source": [
    "import pandas as pd\n",
    "import numpy as np"
   ]
  },
  {
   "cell_type": "markdown",
   "id": "4690cd3c-e9f4-494b-b970-4696446cf9bd",
   "metadata": {},
   "source": [
    "#### Given the following confusion matrix, evaluate (by hand) the model's performance.\n",
    "\n",
    "\n",
    "|               | pred dog   | pred cat   |\n",
    "|:------------  |-----------:|-----------:|\n",
    "| actual dog    |         46 |         7  |\n",
    "| actual cat    |         13 |         34 |"
   ]
  },
  {
   "cell_type": "markdown",
   "id": "f7d4efd7-d1e4-41ab-a2b0-07ce3e395857",
   "metadata": {},
   "source": [
    "positive = 'dog'\n",
    "\n",
    "negative = 'cat'"
   ]
  },
  {
   "cell_type": "markdown",
   "id": "162ef166-22b9-4572-b1f8-666655849a43",
   "metadata": {},
   "source": [
    "#### In the context of this problem, what is a false positive?"
   ]
  },
  {
   "cell_type": "markdown",
   "id": "6ef7e5f2-678a-47f3-8bfc-d00b9f139f4a",
   "metadata": {},
   "source": [
    "> where i predicted dog, but it was actually a cat (13 in the matrix)"
   ]
  },
  {
   "cell_type": "markdown",
   "id": "3df0eb77-19e3-4f64-8aeb-a2a9ae5aba23",
   "metadata": {},
   "source": [
    "#### In the context of this problem, what is a false negative?"
   ]
  },
  {
   "cell_type": "markdown",
   "id": "befd6b4a-da40-48e4-95c2-cb63aad8d6f4",
   "metadata": {},
   "source": [
    "> where i predicted cat, but it was actually a dog, (7 in the matrix)"
   ]
  },
  {
   "cell_type": "markdown",
   "id": "65365c7d-373d-4d94-811d-3b0aaf8fcb2d",
   "metadata": {},
   "source": [
    "#### How would you describe this model?"
   ]
  },
  {
   "cell_type": "code",
   "execution_count": 69,
   "id": "de71d8e5-1a69-4fb9-96e1-3ed6212d4a0a",
   "metadata": {},
   "outputs": [],
   "source": [
    "tp = 46\n",
    "tn = 34\n",
    "fp = 13\n",
    "fn = 7"
   ]
  },
  {
   "cell_type": "code",
   "execution_count": 71,
   "id": "340dee1c-84f0-480f-8320-1d7567f1ef92",
   "metadata": {},
   "outputs": [
    {
     "data": {
      "text/plain": [
       "0.8"
      ]
     },
     "execution_count": 71,
     "metadata": {},
     "output_type": "execute_result"
    }
   ],
   "source": [
    "accuracy = (tp + tn) / (tp + tn + fp + fn)\n",
    "accuracy"
   ]
  },
  {
   "cell_type": "markdown",
   "id": "f3b46c38-d9d7-4873-a2dd-bf20968b5284",
   "metadata": {},
   "source": [
    "> this accurately predicts cat or dog 80% of the time"
   ]
  },
  {
   "cell_type": "markdown",
   "id": "2445bd59-87ef-42a2-bab8-e16ed48327ed",
   "metadata": {},
   "source": [
    "#### You are working as a datascientist working for Codeup Cody Creator (C3 for short), a rubber-duck manufacturing plant."
   ]
  },
  {
   "cell_type": "markdown",
   "id": "5a71a0f2-5d21-4544-9072-c164b6c1ab3b",
   "metadata": {},
   "source": [
    "#### Unfortunately, some of the rubber ducks that are produced will have defects. Your team has built several models that try to predict those defects, and the data from their predictions can be found here."
   ]
  },
  {
   "cell_type": "code",
   "execution_count": 87,
   "id": "f32aa545-4d9b-41ef-b600-2eda1954d341",
   "metadata": {},
   "outputs": [],
   "source": [
    "df = pd.read_csv('~/Downloads/c3.csv')"
   ]
  },
  {
   "cell_type": "code",
   "execution_count": 88,
   "id": "d0275445-ea10-445f-9206-1708f781639c",
   "metadata": {},
   "outputs": [
    {
     "data": {
      "text/html": [
       "<div>\n",
       "<style scoped>\n",
       "    .dataframe tbody tr th:only-of-type {\n",
       "        vertical-align: middle;\n",
       "    }\n",
       "\n",
       "    .dataframe tbody tr th {\n",
       "        vertical-align: top;\n",
       "    }\n",
       "\n",
       "    .dataframe thead th {\n",
       "        text-align: right;\n",
       "    }\n",
       "</style>\n",
       "<table border=\"1\" class=\"dataframe\">\n",
       "  <thead>\n",
       "    <tr style=\"text-align: right;\">\n",
       "      <th></th>\n",
       "      <th>actual</th>\n",
       "      <th>model1</th>\n",
       "      <th>model2</th>\n",
       "      <th>model3</th>\n",
       "    </tr>\n",
       "  </thead>\n",
       "  <tbody>\n",
       "    <tr>\n",
       "      <th>0</th>\n",
       "      <td>No Defect</td>\n",
       "      <td>No Defect</td>\n",
       "      <td>Defect</td>\n",
       "      <td>No Defect</td>\n",
       "    </tr>\n",
       "    <tr>\n",
       "      <th>1</th>\n",
       "      <td>No Defect</td>\n",
       "      <td>No Defect</td>\n",
       "      <td>Defect</td>\n",
       "      <td>Defect</td>\n",
       "    </tr>\n",
       "    <tr>\n",
       "      <th>2</th>\n",
       "      <td>No Defect</td>\n",
       "      <td>No Defect</td>\n",
       "      <td>Defect</td>\n",
       "      <td>No Defect</td>\n",
       "    </tr>\n",
       "    <tr>\n",
       "      <th>3</th>\n",
       "      <td>No Defect</td>\n",
       "      <td>Defect</td>\n",
       "      <td>Defect</td>\n",
       "      <td>Defect</td>\n",
       "    </tr>\n",
       "    <tr>\n",
       "      <th>4</th>\n",
       "      <td>No Defect</td>\n",
       "      <td>No Defect</td>\n",
       "      <td>Defect</td>\n",
       "      <td>No Defect</td>\n",
       "    </tr>\n",
       "  </tbody>\n",
       "</table>\n",
       "</div>"
      ],
      "text/plain": [
       "      actual     model1  model2     model3\n",
       "0  No Defect  No Defect  Defect  No Defect\n",
       "1  No Defect  No Defect  Defect     Defect\n",
       "2  No Defect  No Defect  Defect  No Defect\n",
       "3  No Defect     Defect  Defect     Defect\n",
       "4  No Defect  No Defect  Defect  No Defect"
      ]
     },
     "execution_count": 88,
     "metadata": {},
     "output_type": "execute_result"
    }
   ],
   "source": [
    "df.head()"
   ]
  },
  {
   "cell_type": "code",
   "execution_count": 89,
   "id": "0ad55a8d-86db-40dc-aa54-1187812cdc77",
   "metadata": {},
   "outputs": [
    {
     "data": {
      "text/plain": [
       "(200, 4)"
      ]
     },
     "execution_count": 89,
     "metadata": {},
     "output_type": "execute_result"
    }
   ],
   "source": [
    "df.shape"
   ]
  },
  {
   "cell_type": "markdown",
   "id": "ad9a0c91-b52c-4879-b639-40b64dea9687",
   "metadata": {},
   "source": [
    "#### Use the predictions dataset and pandas to help answer the following questions:"
   ]
  },
  {
   "cell_type": "markdown",
   "id": "eb4bd7da-b7c4-44cb-9b21-4093725b6941",
   "metadata": {},
   "source": [
    "#### An internal team wants to investigate the cause of the manufacturing defects. They tell you that they want to identify as many of the ducks that have a defect as possible. Which evaluation metric would be appropriate here? Which model would be the best fit for this use case?"
   ]
  },
  {
   "cell_type": "markdown",
   "id": "11094f1f-0d25-4604-abf3-7e117f28f691",
   "metadata": {},
   "source": [
    "positive case = 'defect'\n",
    "\n",
    "negative case = 'no defect'\n",
    "\n",
    "false negatives: when i predicted no defect, but there was a defect\n",
    "\n",
    "false positives: when i prediced defect, but there was no defect\n",
    "\n",
    "recall: minimize false negatives, looking at positive actuals\n",
    "\n",
    "precision: minmize false positives, looking at positive predictions"
   ]
  },
  {
   "cell_type": "markdown",
   "id": "88cad5f9-864a-4ca4-befb-c4a1b21a1953",
   "metadata": {},
   "source": [
    "> for this scenario, we will choose recall"
   ]
  },
  {
   "cell_type": "code",
   "execution_count": 90,
   "id": "fa34d0e8-2f9a-44a7-93ce-663d9ee26026",
   "metadata": {},
   "outputs": [
    {
     "data": {
      "text/html": [
       "<div>\n",
       "<style scoped>\n",
       "    .dataframe tbody tr th:only-of-type {\n",
       "        vertical-align: middle;\n",
       "    }\n",
       "\n",
       "    .dataframe tbody tr th {\n",
       "        vertical-align: top;\n",
       "    }\n",
       "\n",
       "    .dataframe thead th {\n",
       "        text-align: right;\n",
       "    }\n",
       "</style>\n",
       "<table border=\"1\" class=\"dataframe\">\n",
       "  <thead>\n",
       "    <tr style=\"text-align: right;\">\n",
       "      <th></th>\n",
       "      <th>actual</th>\n",
       "      <th>model1</th>\n",
       "      <th>model2</th>\n",
       "      <th>model3</th>\n",
       "    </tr>\n",
       "  </thead>\n",
       "  <tbody>\n",
       "    <tr>\n",
       "      <th>13</th>\n",
       "      <td>Defect</td>\n",
       "      <td>No Defect</td>\n",
       "      <td>Defect</td>\n",
       "      <td>Defect</td>\n",
       "    </tr>\n",
       "    <tr>\n",
       "      <th>30</th>\n",
       "      <td>Defect</td>\n",
       "      <td>Defect</td>\n",
       "      <td>No Defect</td>\n",
       "      <td>Defect</td>\n",
       "    </tr>\n",
       "    <tr>\n",
       "      <th>65</th>\n",
       "      <td>Defect</td>\n",
       "      <td>Defect</td>\n",
       "      <td>Defect</td>\n",
       "      <td>Defect</td>\n",
       "    </tr>\n",
       "    <tr>\n",
       "      <th>70</th>\n",
       "      <td>Defect</td>\n",
       "      <td>Defect</td>\n",
       "      <td>Defect</td>\n",
       "      <td>Defect</td>\n",
       "    </tr>\n",
       "    <tr>\n",
       "      <th>74</th>\n",
       "      <td>Defect</td>\n",
       "      <td>No Defect</td>\n",
       "      <td>No Defect</td>\n",
       "      <td>Defect</td>\n",
       "    </tr>\n",
       "  </tbody>\n",
       "</table>\n",
       "</div>"
      ],
      "text/plain": [
       "    actual     model1     model2  model3\n",
       "13  Defect  No Defect     Defect  Defect\n",
       "30  Defect     Defect  No Defect  Defect\n",
       "65  Defect     Defect     Defect  Defect\n",
       "70  Defect     Defect     Defect  Defect\n",
       "74  Defect  No Defect  No Defect  Defect"
      ]
     },
     "execution_count": 90,
     "metadata": {},
     "output_type": "execute_result"
    }
   ],
   "source": [
    "#find all positive actuals\n",
    "pos_actuals = df [df.actual == 'Defect']\n",
    "pos_actuals.head()"
   ]
  },
  {
   "cell_type": "code",
   "execution_count": 91,
   "id": "aac2db3c-6a9e-4f4c-a3be-0eec7bf5a170",
   "metadata": {},
   "outputs": [
    {
     "data": {
      "text/plain": [
       "0.5"
      ]
     },
     "execution_count": 91,
     "metadata": {},
     "output_type": "execute_result"
    }
   ],
   "source": [
    "(pos_actuals.actual == pos_actuals.model1).mean()"
   ]
  },
  {
   "cell_type": "code",
   "execution_count": 92,
   "id": "fe83d25d-6aff-436f-afc2-3a17b0953450",
   "metadata": {},
   "outputs": [
    {
     "data": {
      "text/plain": [
       "0.5625"
      ]
     },
     "execution_count": 92,
     "metadata": {},
     "output_type": "execute_result"
    }
   ],
   "source": [
    "(pos_actuals.actual == pos_actuals.model2).mean()"
   ]
  },
  {
   "cell_type": "code",
   "execution_count": 93,
   "id": "d8f0f4a0-be77-4cea-9930-a0745a41d405",
   "metadata": {},
   "outputs": [
    {
     "data": {
      "text/plain": [
       "0.8125"
      ]
     },
     "execution_count": 93,
     "metadata": {},
     "output_type": "execute_result"
    }
   ],
   "source": [
    "(pos_actuals.actual == pos_actuals.model3).mean()"
   ]
  },
  {
   "cell_type": "markdown",
   "id": "57d2994b-5b36-45bc-a0b9-aef8c6af68c3",
   "metadata": {},
   "source": [
    "> model 3 works best for correctly predicing our defects in the ducks (using recall)"
   ]
  },
  {
   "cell_type": "markdown",
   "id": "fbb12558-c003-4a1c-b68d-f6c9b7a68fba",
   "metadata": {},
   "source": [
    "#### Recently several stories in the local news have come out highlighting customers who received a rubber duck with a defect, and portraying C3 in a bad light. The PR team has decided to launch a program that gives customers with a defective duck a vacation to Hawaii. They need you to predict which ducks will have defects, but tell you the really don't want to accidentally give out a vacation package when the duck really doesn't have a defect. Which evaluation metric would be appropriate here? Which model would be the best fit for this use case?"
   ]
  },
  {
   "cell_type": "markdown",
   "id": "8c61f875-767e-40cf-9e3e-7fb7b7eca6ae",
   "metadata": {},
   "source": [
    "positive case = 'defect'\n",
    "\n",
    "negative case = 'no defect'\n",
    "\n",
    "false negatives: when i predicted no defect, but there was a defect\n",
    "\n",
    "false positives: when i prediced defect, but there was no defect\n",
    "\n",
    "recall: minimize false negatives, looking at positive actuals\n",
    "\n",
    "precision: minmize false positives, looking at positive predictions"
   ]
  },
  {
   "cell_type": "markdown",
   "id": "f4eb94ea-04d9-4cc4-993a-a57a4536b482",
   "metadata": {},
   "source": [
    "> we will use precision because we want to minimize false positives, we dont want to give someone a vacation when they dont have a defective duck"
   ]
  },
  {
   "cell_type": "markdown",
   "id": "517fa73b-3cd5-49da-b820-1558791bec49",
   "metadata": {},
   "source": [
    "#### You are working as a data scientist for Gives You Paws ™, a subscription based service that shows you cute pictures of dogs or cats (or both for an additional fee)."
   ]
  },
  {
   "cell_type": "markdown",
   "id": "021ec3c3-77be-4210-928f-17a561b68db7",
   "metadata": {},
   "source": [
    "#### At Gives You Paws, anyone can upload pictures of their cats or dogs. The photos are then put through a two step process. First an automated algorithm tags pictures as either a cat or a dog (Phase I). Next, the photos that have been initially identified are put through another round of review, possibly with some human oversight, before being presented to the users (Phase II)."
   ]
  },
  {
   "cell_type": "markdown",
   "id": "0a2e94c0-ef49-4842-8bf9-663e29025225",
   "metadata": {},
   "source": [
    "#### Several models have already been developed with the data, and you can find their results here."
   ]
  },
  {
   "cell_type": "code",
   "execution_count": 94,
   "id": "61b2e100-e772-4db2-9221-c52a688d357e",
   "metadata": {},
   "outputs": [],
   "source": [
    "df = pd.read_csv('~/Downloads/gives_you_paws.csv')"
   ]
  },
  {
   "cell_type": "code",
   "execution_count": 95,
   "id": "ff44d308-c318-483c-a72e-a04d05feb262",
   "metadata": {},
   "outputs": [
    {
     "data": {
      "text/html": [
       "<div>\n",
       "<style scoped>\n",
       "    .dataframe tbody tr th:only-of-type {\n",
       "        vertical-align: middle;\n",
       "    }\n",
       "\n",
       "    .dataframe tbody tr th {\n",
       "        vertical-align: top;\n",
       "    }\n",
       "\n",
       "    .dataframe thead th {\n",
       "        text-align: right;\n",
       "    }\n",
       "</style>\n",
       "<table border=\"1\" class=\"dataframe\">\n",
       "  <thead>\n",
       "    <tr style=\"text-align: right;\">\n",
       "      <th></th>\n",
       "      <th>actual</th>\n",
       "      <th>model1</th>\n",
       "      <th>model2</th>\n",
       "      <th>model3</th>\n",
       "      <th>model4</th>\n",
       "    </tr>\n",
       "  </thead>\n",
       "  <tbody>\n",
       "    <tr>\n",
       "      <th>0</th>\n",
       "      <td>cat</td>\n",
       "      <td>cat</td>\n",
       "      <td>dog</td>\n",
       "      <td>cat</td>\n",
       "      <td>dog</td>\n",
       "    </tr>\n",
       "    <tr>\n",
       "      <th>1</th>\n",
       "      <td>dog</td>\n",
       "      <td>dog</td>\n",
       "      <td>cat</td>\n",
       "      <td>cat</td>\n",
       "      <td>dog</td>\n",
       "    </tr>\n",
       "    <tr>\n",
       "      <th>2</th>\n",
       "      <td>dog</td>\n",
       "      <td>cat</td>\n",
       "      <td>cat</td>\n",
       "      <td>cat</td>\n",
       "      <td>dog</td>\n",
       "    </tr>\n",
       "    <tr>\n",
       "      <th>3</th>\n",
       "      <td>dog</td>\n",
       "      <td>dog</td>\n",
       "      <td>dog</td>\n",
       "      <td>cat</td>\n",
       "      <td>dog</td>\n",
       "    </tr>\n",
       "    <tr>\n",
       "      <th>4</th>\n",
       "      <td>cat</td>\n",
       "      <td>cat</td>\n",
       "      <td>cat</td>\n",
       "      <td>dog</td>\n",
       "      <td>dog</td>\n",
       "    </tr>\n",
       "  </tbody>\n",
       "</table>\n",
       "</div>"
      ],
      "text/plain": [
       "  actual model1 model2 model3 model4\n",
       "0    cat    cat    dog    cat    dog\n",
       "1    dog    dog    cat    cat    dog\n",
       "2    dog    cat    cat    cat    dog\n",
       "3    dog    dog    dog    cat    dog\n",
       "4    cat    cat    cat    dog    dog"
      ]
     },
     "execution_count": 95,
     "metadata": {},
     "output_type": "execute_result"
    }
   ],
   "source": [
    "df.head()"
   ]
  },
  {
   "cell_type": "code",
   "execution_count": 96,
   "id": "1f95f667-0dee-4939-930b-ab9698cda72f",
   "metadata": {},
   "outputs": [
    {
     "data": {
      "text/plain": [
       "(5000, 5)"
      ]
     },
     "execution_count": 96,
     "metadata": {},
     "output_type": "execute_result"
    }
   ],
   "source": [
    "df.shape"
   ]
  },
  {
   "cell_type": "markdown",
   "id": "be7b103e-f94f-4acf-b8e1-31c79311d2f4",
   "metadata": {},
   "source": [
    "#### Given this dataset, use pandas to create a baseline model (i.e. a model that just predicts the most common class) and answer the following questions:"
   ]
  },
  {
   "cell_type": "code",
   "execution_count": 125,
   "id": "90f7c757-9f19-4d98-a89d-ca786220b9e3",
   "metadata": {},
   "outputs": [
    {
     "data": {
      "text/plain": [
       "0    dog\n",
       "Name: actual, dtype: object"
      ]
     },
     "execution_count": 125,
     "metadata": {},
     "output_type": "execute_result"
    }
   ],
   "source": [
    "df.actual.mode() #returns one row with a zero index"
   ]
  },
  {
   "cell_type": "code",
   "execution_count": 123,
   "id": "d59de647-fd2e-42be-a4e0-733499b39075",
   "metadata": {},
   "outputs": [
    {
     "data": {
      "text/plain": [
       "0.6508"
      ]
     },
     "execution_count": 123,
     "metadata": {},
     "output_type": "execute_result"
    }
   ],
   "source": [
    "#turning my counts into percent\n",
    "# df.actual.value_counts()\n",
    "df.actual.value_counts(normalize=True)[0]"
   ]
  },
  {
   "cell_type": "code",
   "execution_count": 120,
   "id": "9b763f53-7967-45cb-abe8-3ec5be9adee4",
   "metadata": {},
   "outputs": [
    {
     "data": {
      "text/plain": [
       "0.6508"
      ]
     },
     "execution_count": 120,
     "metadata": {},
     "output_type": "execute_result"
    }
   ],
   "source": [
    "(df.actual == 'dog').mean()"
   ]
  },
  {
   "cell_type": "markdown",
   "id": "88943573-1b5a-4ff1-99b2-413ac6410812",
   "metadata": {},
   "source": [
    "#### In terms of accuracy, how do the various models compare to the baseline model? Are any of the models better than the baseline?"
   ]
  },
  {
   "cell_type": "code",
   "execution_count": 108,
   "id": "571990b4-4013-413e-836c-7adb1c0f2ee5",
   "metadata": {},
   "outputs": [
    {
     "data": {
      "text/plain": [
       "0.8074"
      ]
     },
     "execution_count": 108,
     "metadata": {},
     "output_type": "execute_result"
    }
   ],
   "source": [
    "(df.actual == df.model1).mean()"
   ]
  },
  {
   "cell_type": "code",
   "execution_count": 111,
   "id": "29e44e5c-3628-443f-900a-a9eb17e99cd2",
   "metadata": {},
   "outputs": [
    {
     "data": {
      "text/plain": [
       "Index(['model1', 'model2', 'model3', 'model4'], dtype='object')"
      ]
     },
     "execution_count": 111,
     "metadata": {},
     "output_type": "execute_result"
    }
   ],
   "source": [
    "df.columns[1:]"
   ]
  },
  {
   "cell_type": "code",
   "execution_count": 116,
   "id": "ea6f514c-8cbc-425c-b90b-8847d9c89c84",
   "metadata": {},
   "outputs": [
    {
     "name": "stdout",
     "output_type": "stream",
     "text": [
      "for model1 the accuracy is 0.8074\n",
      "for model2 the accuracy is 0.6304\n",
      "for model3 the accuracy is 0.5096\n",
      "for model4 the accuracy is 0.7426\n"
     ]
    }
   ],
   "source": [
    "#looping through my 4 different models\n",
    "for col in df.columns[1:]:\n",
    "#     print(col)\n",
    "    acc = (df.actual == df[col]).mean()\n",
    "#     print(acc)\n",
    "    print(f'for {col} the accuracy is {acc}')"
   ]
  },
  {
   "cell_type": "markdown",
   "id": "ab06300e-ea68-44b7-94a7-f4955972e52d",
   "metadata": {},
   "source": [
    "> models 1 and 4 beat baseline"
   ]
  },
  {
   "cell_type": "markdown",
   "id": "7295ca99-7a8e-4868-9f31-7b7445a21e13",
   "metadata": {},
   "source": [
    "#### Suppose you are working on a team that solely deals with dog pictures. Which of these models would you recommend?"
   ]
  },
  {
   "cell_type": "markdown",
   "id": "148a9caf-260a-43c8-83ac-afb6628e85a9",
   "metadata": {},
   "source": [
    "positive = 'dog'\n",
    "\n",
    "recall = minimize our false negatives\n",
    "\n",
    "precision = minimize our false positives\n",
    "\n",
    "false negatives = predicting a cat, when its actually a dog\n",
    "\n",
    "false positives = predicting a dog, when its actually a cat"
   ]
  },
  {
   "cell_type": "markdown",
   "id": "9e545406-fee7-413a-8064-6b379c614da8",
   "metadata": {},
   "source": [
    "> i will choose precision to minimize false positives, cause i dont want cat pictures"
   ]
  },
  {
   "cell_type": "code",
   "execution_count": 135,
   "id": "05800221-f88b-4911-ac38-68ff491efeb2",
   "metadata": {},
   "outputs": [
    {
     "data": {
      "text/html": [
       "<div>\n",
       "<style scoped>\n",
       "    .dataframe tbody tr th:only-of-type {\n",
       "        vertical-align: middle;\n",
       "    }\n",
       "\n",
       "    .dataframe tbody tr th {\n",
       "        vertical-align: top;\n",
       "    }\n",
       "\n",
       "    .dataframe thead th {\n",
       "        text-align: right;\n",
       "    }\n",
       "</style>\n",
       "<table border=\"1\" class=\"dataframe\">\n",
       "  <thead>\n",
       "    <tr style=\"text-align: right;\">\n",
       "      <th></th>\n",
       "      <th>actual</th>\n",
       "      <th>model1</th>\n",
       "      <th>model2</th>\n",
       "      <th>model3</th>\n",
       "      <th>model4</th>\n",
       "    </tr>\n",
       "  </thead>\n",
       "  <tbody>\n",
       "    <tr>\n",
       "      <th>1</th>\n",
       "      <td>dog</td>\n",
       "      <td>dog</td>\n",
       "      <td>cat</td>\n",
       "      <td>cat</td>\n",
       "      <td>dog</td>\n",
       "    </tr>\n",
       "    <tr>\n",
       "      <th>3</th>\n",
       "      <td>dog</td>\n",
       "      <td>dog</td>\n",
       "      <td>dog</td>\n",
       "      <td>cat</td>\n",
       "      <td>dog</td>\n",
       "    </tr>\n",
       "    <tr>\n",
       "      <th>5</th>\n",
       "      <td>dog</td>\n",
       "      <td>dog</td>\n",
       "      <td>dog</td>\n",
       "      <td>dog</td>\n",
       "      <td>dog</td>\n",
       "    </tr>\n",
       "    <tr>\n",
       "      <th>7</th>\n",
       "      <td>cat</td>\n",
       "      <td>dog</td>\n",
       "      <td>cat</td>\n",
       "      <td>cat</td>\n",
       "      <td>dog</td>\n",
       "    </tr>\n",
       "    <tr>\n",
       "      <th>8</th>\n",
       "      <td>dog</td>\n",
       "      <td>dog</td>\n",
       "      <td>cat</td>\n",
       "      <td>dog</td>\n",
       "      <td>dog</td>\n",
       "    </tr>\n",
       "  </tbody>\n",
       "</table>\n",
       "</div>"
      ],
      "text/plain": [
       "  actual model1 model2 model3 model4\n",
       "1    dog    dog    cat    cat    dog\n",
       "3    dog    dog    dog    cat    dog\n",
       "5    dog    dog    dog    dog    dog\n",
       "7    cat    dog    cat    cat    dog\n",
       "8    dog    dog    cat    dog    dog"
      ]
     },
     "execution_count": 135,
     "metadata": {},
     "output_type": "execute_result"
    }
   ],
   "source": [
    "#finding my positive predictions\n",
    "pos_predictions = df [df.model1 == 'dog']\n",
    "pos_predictions.head()"
   ]
  },
  {
   "cell_type": "code",
   "execution_count": 136,
   "id": "8cbb1487-a8e1-403a-84aa-9fff4e33d063",
   "metadata": {},
   "outputs": [
    {
     "data": {
      "text/plain": [
       "0.8900238338440586"
      ]
     },
     "execution_count": 136,
     "metadata": {},
     "output_type": "execute_result"
    }
   ],
   "source": [
    "(pos_predictions.actual == pos_predictions.model1).mean()"
   ]
  },
  {
   "cell_type": "code",
   "execution_count": 144,
   "id": "d3e31291-6e49-47f1-b97b-ddcf3fa64c37",
   "metadata": {},
   "outputs": [
    {
     "name": "stdout",
     "output_type": "stream",
     "text": [
      "for model1 the precision is 0.89\n",
      "for model2 the precision is 0.89\n",
      "for model3 the precision is 0.66\n",
      "for model4 the precision is 0.73\n"
     ]
    }
   ],
   "source": [
    "for col in df.columns[1:]:\n",
    "#     print(col)\n",
    "    pos_predictions = df [df[col] == 'dog']\n",
    "    prec = (pos_predictions.actual == pos_predictions[col]).mean()\n",
    "    \n",
    "    print(f'for {col} the precision is {round(prec,2)}')"
   ]
  },
  {
   "cell_type": "markdown",
   "id": "761d20d1-5992-4974-8891-a26d18f4159f",
   "metadata": {},
   "source": [
    "> based on the precision, either model 1 or model 2 would be best for predicting dog pictuers"
   ]
  },
  {
   "cell_type": "markdown",
   "id": "9fde4474-a22e-42a5-be8e-27a5b5109692",
   "metadata": {},
   "source": [
    "#### Suppose you are working on a team that solely deals with cat pictures. Which of these models would you recommend?"
   ]
  },
  {
   "cell_type": "markdown",
   "id": "3175aa9a-2efe-4a31-864f-52584c3d3aa2",
   "metadata": {},
   "source": [
    "positive = 'cat'\n",
    "\n",
    "recall = minimize our false negatives\n",
    "\n",
    "precision = minimize our false positives\n",
    "\n",
    "false negatives = predicting a dog, when its actually a cat\n",
    "\n",
    "false positives = predicting a cat, when its actually a dog"
   ]
  },
  {
   "cell_type": "markdown",
   "id": "efeeb27d-fc55-4db7-9e33-317d22663587",
   "metadata": {},
   "source": [
    "> i will choose precision to minimize false positives, cause i dont want dog pictures"
   ]
  },
  {
   "cell_type": "code",
   "execution_count": 146,
   "id": "4f9b1ec4-7bee-4bcd-ba6e-52aabf07d917",
   "metadata": {},
   "outputs": [
    {
     "name": "stdout",
     "output_type": "stream",
     "text": [
      "for model1 the precision is 0.69\n",
      "for model2 the precision is 0.48\n",
      "for model3 the precision is 0.36\n",
      "for model4 the precision is 0.81\n"
     ]
    }
   ],
   "source": [
    "for col in df.columns[1:]:\n",
    "#     print(col)\n",
    "    pos_predictions = df [df[col] == 'cat']\n",
    "    prec = (pos_predictions.actual == pos_predictions[col]).mean()\n",
    "    \n",
    "    print(f'for {col} the precision is {round(prec,2)}')"
   ]
  },
  {
   "cell_type": "markdown",
   "id": "724b0bcd-a89a-401e-8687-9b57e1c9afe2",
   "metadata": {},
   "source": [
    "> using precision, model 1 would be best for predicting cat pictures"
   ]
  },
  {
   "cell_type": "markdown",
   "id": "473bb1da-f614-430b-a235-f8a19ed37722",
   "metadata": {},
   "source": [
    "#### Follow the links below to read the documentation about each function, then apply those functions to the data from the previous problem."
   ]
  },
  {
   "cell_type": "markdown",
   "id": "b57a7d80-64e3-4841-83b7-aa2c7197185d",
   "metadata": {},
   "source": [
    "- [sklearn.metrics.accuracy_score](https://scikit-learn.org/stable/modules/generated/sklearn.metrics.accuracy_score.html)\n",
    "- [sklearn.metrics.precision_score](https://scikit-learn.org/stable/modules/generated/sklearn.metrics.precision_score.html)\n",
    "- [sklearn.metrics.recall_score](https://scikit-learn.org/stable/modules/generated/sklearn.metrics.recall_score.html)\n",
    "- [sklearn.metrics.classification_report](https://scikit-learn.org/stable/modules/generated/sklearn.metrics.classification_report.html)"
   ]
  },
  {
   "cell_type": "code",
   "execution_count": 150,
   "id": "d7248b97-4147-464b-9a7b-35fb1e8a68f8",
   "metadata": {},
   "outputs": [],
   "source": [
    "from sklearn.metrics import accuracy_score, precision_score, recall_score, classification_report"
   ]
  },
  {
   "cell_type": "code",
   "execution_count": 151,
   "id": "942eeb8b-6c07-4ac3-98b0-59f34df8fe91",
   "metadata": {},
   "outputs": [
    {
     "data": {
      "text/html": [
       "<div>\n",
       "<style scoped>\n",
       "    .dataframe tbody tr th:only-of-type {\n",
       "        vertical-align: middle;\n",
       "    }\n",
       "\n",
       "    .dataframe tbody tr th {\n",
       "        vertical-align: top;\n",
       "    }\n",
       "\n",
       "    .dataframe thead th {\n",
       "        text-align: right;\n",
       "    }\n",
       "</style>\n",
       "<table border=\"1\" class=\"dataframe\">\n",
       "  <thead>\n",
       "    <tr style=\"text-align: right;\">\n",
       "      <th></th>\n",
       "      <th>actual</th>\n",
       "      <th>model1</th>\n",
       "      <th>model2</th>\n",
       "      <th>model3</th>\n",
       "      <th>model4</th>\n",
       "    </tr>\n",
       "  </thead>\n",
       "  <tbody>\n",
       "    <tr>\n",
       "      <th>0</th>\n",
       "      <td>cat</td>\n",
       "      <td>cat</td>\n",
       "      <td>dog</td>\n",
       "      <td>cat</td>\n",
       "      <td>dog</td>\n",
       "    </tr>\n",
       "    <tr>\n",
       "      <th>1</th>\n",
       "      <td>dog</td>\n",
       "      <td>dog</td>\n",
       "      <td>cat</td>\n",
       "      <td>cat</td>\n",
       "      <td>dog</td>\n",
       "    </tr>\n",
       "    <tr>\n",
       "      <th>2</th>\n",
       "      <td>dog</td>\n",
       "      <td>cat</td>\n",
       "      <td>cat</td>\n",
       "      <td>cat</td>\n",
       "      <td>dog</td>\n",
       "    </tr>\n",
       "    <tr>\n",
       "      <th>3</th>\n",
       "      <td>dog</td>\n",
       "      <td>dog</td>\n",
       "      <td>dog</td>\n",
       "      <td>cat</td>\n",
       "      <td>dog</td>\n",
       "    </tr>\n",
       "    <tr>\n",
       "      <th>4</th>\n",
       "      <td>cat</td>\n",
       "      <td>cat</td>\n",
       "      <td>cat</td>\n",
       "      <td>dog</td>\n",
       "      <td>dog</td>\n",
       "    </tr>\n",
       "  </tbody>\n",
       "</table>\n",
       "</div>"
      ],
      "text/plain": [
       "  actual model1 model2 model3 model4\n",
       "0    cat    cat    dog    cat    dog\n",
       "1    dog    dog    cat    cat    dog\n",
       "2    dog    cat    cat    cat    dog\n",
       "3    dog    dog    dog    cat    dog\n",
       "4    cat    cat    cat    dog    dog"
      ]
     },
     "execution_count": 151,
     "metadata": {},
     "output_type": "execute_result"
    }
   ],
   "source": [
    "df.head()"
   ]
  },
  {
   "cell_type": "code",
   "execution_count": 152,
   "id": "4ee68c9d-5706-4f38-b806-333c7db2e020",
   "metadata": {},
   "outputs": [
    {
     "data": {
      "text/plain": [
       "0.8074"
      ]
     },
     "execution_count": 152,
     "metadata": {},
     "output_type": "execute_result"
    }
   ],
   "source": [
    "accuracy_score(df.actual, df.model1)"
   ]
  },
  {
   "cell_type": "code",
   "execution_count": 155,
   "id": "565f74bf-2d77-45f3-808a-c42f5b4f13a7",
   "metadata": {},
   "outputs": [
    {
     "data": {
      "text/plain": [
       "0.6897721764420747"
      ]
     },
     "execution_count": 155,
     "metadata": {},
     "output_type": "execute_result"
    }
   ],
   "source": [
    "precision_score(df.actual, df.model1, pos_label='cat')"
   ]
  },
  {
   "cell_type": "code",
   "execution_count": 156,
   "id": "b346db18-37ce-4f18-96cc-3df41e2af9eb",
   "metadata": {},
   "outputs": [
    {
     "data": {
      "text/plain": [
       "0.8900238338440586"
      ]
     },
     "execution_count": 156,
     "metadata": {},
     "output_type": "execute_result"
    }
   ],
   "source": [
    "precision_score(df.actual, df.model1, pos_label='dog')"
   ]
  },
  {
   "cell_type": "code",
   "execution_count": 157,
   "id": "b67941d9-7a05-4753-9891-b403e84440b8",
   "metadata": {},
   "outputs": [
    {
     "data": {
      "text/plain": [
       "0.8150057273768614"
      ]
     },
     "execution_count": 157,
     "metadata": {},
     "output_type": "execute_result"
    }
   ],
   "source": [
    "recall_score(df.actual, df.model1, pos_label='cat')"
   ]
  },
  {
   "cell_type": "code",
   "execution_count": 158,
   "id": "448a42ec-05f5-4f09-aa43-9fb87635efe2",
   "metadata": {},
   "outputs": [
    {
     "data": {
      "text/plain": [
       "0.803318992009834"
      ]
     },
     "execution_count": 158,
     "metadata": {},
     "output_type": "execute_result"
    }
   ],
   "source": [
    "recall_score(df.actual, df.model1, pos_label='dog')"
   ]
  },
  {
   "cell_type": "code",
   "execution_count": 161,
   "id": "fa5c1f5b-a8f3-4767-a948-241c35af2d89",
   "metadata": {},
   "outputs": [
    {
     "data": {
      "text/plain": [
       "'              precision    recall  f1-score   support\\n\\n         cat       0.69      0.82      0.75      1746\\n         dog       0.89      0.80      0.84      3254\\n\\n    accuracy                           0.81      5000\\n   macro avg       0.79      0.81      0.80      5000\\nweighted avg       0.82      0.81      0.81      5000\\n'"
      ]
     },
     "execution_count": 161,
     "metadata": {},
     "output_type": "execute_result"
    }
   ],
   "source": [
    "classification_report(df.actual, df.model1)"
   ]
  },
  {
   "cell_type": "code",
   "execution_count": 162,
   "id": "25b8657e-7daa-4dac-bedf-d956fe25b45b",
   "metadata": {},
   "outputs": [
    {
     "name": "stdout",
     "output_type": "stream",
     "text": [
      "              precision    recall  f1-score   support\n",
      "\n",
      "         cat       0.69      0.82      0.75      1746\n",
      "         dog       0.89      0.80      0.84      3254\n",
      "\n",
      "    accuracy                           0.81      5000\n",
      "   macro avg       0.79      0.81      0.80      5000\n",
      "weighted avg       0.82      0.81      0.81      5000\n",
      "\n"
     ]
    }
   ],
   "source": [
    "print(classification_report(df.actual, df.model1))"
   ]
  }
 ],
 "metadata": {
  "kernelspec": {
   "display_name": "Python 3 (ipykernel)",
   "language": "python",
   "name": "python3"
  },
  "language_info": {
   "codemirror_mode": {
    "name": "ipython",
    "version": 3
   },
   "file_extension": ".py",
   "mimetype": "text/x-python",
   "name": "python",
   "nbconvert_exporter": "python",
   "pygments_lexer": "ipython3",
   "version": "3.11.5"
  }
 },
 "nbformat": 4,
 "nbformat_minor": 5
}
